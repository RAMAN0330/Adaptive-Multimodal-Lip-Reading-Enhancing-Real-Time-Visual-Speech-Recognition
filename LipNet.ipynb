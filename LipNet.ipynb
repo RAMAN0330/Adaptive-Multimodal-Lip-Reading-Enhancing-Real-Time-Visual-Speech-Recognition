{
 "cells": [
  {
   "cell_type": "code",
   "execution_count": 1,
   "id": "b24af50c-20b8-409d-ad78-30a933fdd669",
   "metadata": {
    "tags": []
   },
   "outputs": [
    {
     "name": "stderr",
     "output_type": "stream",
     "text": [
      "/Users/raman/Desktop/Deep Learning/lipread_tensorflow-main/env/lib/python3.9/site-packages/urllib3/__init__.py:35: NotOpenSSLWarning: urllib3 v2 only supports OpenSSL 1.1.1+, currently the 'ssl' module is compiled with 'LibreSSL 2.8.3'. See: https://github.com/urllib3/urllib3/issues/3020\n",
      "  warnings.warn(\n"
     ]
    }
   ],
   "source": [
    "import os\n",
    "import cv2\n",
    "import tensorflow as tf\n",
    "import numpy as np\n",
    "from typing import List\n",
    "from matplotlib import pyplot as plt\n",
    "import imageio"
   ]
  },
  {
   "cell_type": "code",
   "execution_count": 2,
   "id": "1e3db0b0-e559-4ad6-91fd-e7414b7d75e6",
   "metadata": {},
   "outputs": [
    {
     "data": {
      "text/plain": [
       "[]"
      ]
     },
     "execution_count": 2,
     "metadata": {},
     "output_type": "execute_result"
    }
   ],
   "source": [
    "tf.config.list_physical_devices('GPU')"
   ]
  },
  {
   "cell_type": "code",
   "execution_count": 3,
   "id": "378d045a-3003-4f93-b7d2-a25a97774a68",
   "metadata": {
    "tags": []
   },
   "outputs": [],
   "source": [
    "physical_devices = tf.config.list_physical_devices('GPU')\n",
    "try:\n",
    "    tf.config.experimental.set_memory_growth(physical_devices[0], True)\n",
    "except:\n",
    "    pass"
   ]
  },
  {
   "cell_type": "markdown",
   "id": "7a19e88e-c7b9-45c1-ae1e-f2109329c71b",
   "metadata": {
    "tags": []
   },
   "source": [
    "# 1. Build Data Loading Functions"
   ]
  },
  {
   "cell_type": "code",
   "execution_count": 4,
   "id": "8fb99c90-e05a-437f-839d-6e772f8c1dd5",
   "metadata": {
    "tags": []
   },
   "outputs": [],
   "source": [
    "import gdown"
   ]
  },
  {
   "cell_type": "code",
   "execution_count": 5,
   "id": "c019e4c6-2af3-4160-99ea-5c8cb009f1a7",
   "metadata": {
    "tags": []
   },
   "outputs": [],
   "source": [
    "# url = 'https://drive.google.com/uc?id=1YlvpDLix3S-U8fd-gqRwPcWXAXm8JwjL'\n",
    "# output = 'data.zip'\n",
    "# gdown.download(url, output, quiet=False)\n",
    "# gdown.extractall('data.zip')"
   ]
  },
  {
   "cell_type": "code",
   "execution_count": 6,
   "id": "8548cc59-6dfc-4acc-abc3-3e65212db02e",
   "metadata": {
    "tags": []
   },
   "outputs": [],
   "source": [
    "def load_video(path:str) -> List[float]: \n",
    "\n",
    "    cap = cv2.VideoCapture(path)\n",
    "    frames = []\n",
    "    for _ in range(int(cap.get(cv2.CAP_PROP_FRAME_COUNT))): \n",
    "        ret, frame = cap.read()\n",
    "        frame = tf.image.rgb_to_grayscale(frame)\n",
    "        frames.append(frame[190:236,80:220,:])\n",
    "    cap.release()\n",
    "    \n",
    "    mean = tf.math.reduce_mean(frames)\n",
    "    std = tf.math.reduce_std(tf.cast(frames, tf.float32))\n",
    "    return tf.cast((frames - mean), tf.float32) / std"
   ]
  },
  {
   "cell_type": "code",
   "execution_count": 7,
   "id": "ec735e0b-ec98-4eb0-8f49-c35527d6670a",
   "metadata": {
    "tags": []
   },
   "outputs": [],
   "source": [
    "vocab = [x for x in \"abcdefghijklmnopqrstuvwxyz'?!123456789 \"]"
   ]
  },
  {
   "cell_type": "code",
   "execution_count": 8,
   "id": "be04e972-d7a5-4a72-82d8-a6bdde1f3ce6",
   "metadata": {
    "tags": []
   },
   "outputs": [
    {
     "name": "stdout",
     "output_type": "stream",
     "text": [
      "The vocabulary is: ['', np.str_('a'), np.str_('b'), np.str_('c'), np.str_('d'), np.str_('e'), np.str_('f'), np.str_('g'), np.str_('h'), np.str_('i'), np.str_('j'), np.str_('k'), np.str_('l'), np.str_('m'), np.str_('n'), np.str_('o'), np.str_('p'), np.str_('q'), np.str_('r'), np.str_('s'), np.str_('t'), np.str_('u'), np.str_('v'), np.str_('w'), np.str_('x'), np.str_('y'), np.str_('z'), np.str_(\"'\"), np.str_('?'), np.str_('!'), np.str_('1'), np.str_('2'), np.str_('3'), np.str_('4'), np.str_('5'), np.str_('6'), np.str_('7'), np.str_('8'), np.str_('9'), np.str_(' ')] (size =40)\n"
     ]
    }
   ],
   "source": [
    "char_to_num = tf.keras.layers.StringLookup(vocabulary=vocab, oov_token=\"\")\n",
    "num_to_char = tf.keras.layers.StringLookup(\n",
    "    vocabulary=char_to_num.get_vocabulary(), oov_token=\"\", invert=True\n",
    ")\n",
    "\n",
    "print(\n",
    "    f\"The vocabulary is: {char_to_num.get_vocabulary()} \"\n",
    "    f\"(size ={char_to_num.vocabulary_size()})\"\n",
    ")"
   ]
  },
  {
   "cell_type": "code",
   "execution_count": 9,
   "id": "559f7420-6802-45fa-9ca0-b1ff209b461c",
   "metadata": {
    "tags": []
   },
   "outputs": [
    {
     "data": {
      "text/plain": [
       "['',\n",
       " np.str_('a'),\n",
       " np.str_('b'),\n",
       " np.str_('c'),\n",
       " np.str_('d'),\n",
       " np.str_('e'),\n",
       " np.str_('f'),\n",
       " np.str_('g'),\n",
       " np.str_('h'),\n",
       " np.str_('i'),\n",
       " np.str_('j'),\n",
       " np.str_('k'),\n",
       " np.str_('l'),\n",
       " np.str_('m'),\n",
       " np.str_('n'),\n",
       " np.str_('o'),\n",
       " np.str_('p'),\n",
       " np.str_('q'),\n",
       " np.str_('r'),\n",
       " np.str_('s'),\n",
       " np.str_('t'),\n",
       " np.str_('u'),\n",
       " np.str_('v'),\n",
       " np.str_('w'),\n",
       " np.str_('x'),\n",
       " np.str_('y'),\n",
       " np.str_('z'),\n",
       " np.str_(\"'\"),\n",
       " np.str_('?'),\n",
       " np.str_('!'),\n",
       " np.str_('1'),\n",
       " np.str_('2'),\n",
       " np.str_('3'),\n",
       " np.str_('4'),\n",
       " np.str_('5'),\n",
       " np.str_('6'),\n",
       " np.str_('7'),\n",
       " np.str_('8'),\n",
       " np.str_('9'),\n",
       " np.str_(' ')]"
      ]
     },
     "execution_count": 9,
     "metadata": {},
     "output_type": "execute_result"
    }
   ],
   "source": [
    "char_to_num.get_vocabulary()"
   ]
  },
  {
   "cell_type": "code",
   "execution_count": 10,
   "id": "797ff78b-b48f-4e14-bb62-8cd0ebf9501a",
   "metadata": {
    "tags": []
   },
   "outputs": [
    {
     "data": {
      "text/plain": [
       "<tf.Tensor: shape=(4,), dtype=int64, numpy=array([14,  9,  3, 11])>"
      ]
     },
     "execution_count": 10,
     "metadata": {},
     "output_type": "execute_result"
    }
   ],
   "source": [
    "char_to_num(['n','i','c','k'])"
   ]
  },
  {
   "cell_type": "code",
   "execution_count": 11,
   "id": "8cd7f4f4-ae77-4509-a4f4-c723787ebad1",
   "metadata": {},
   "outputs": [
    {
     "data": {
      "text/plain": [
       "<tf.Tensor: shape=(4,), dtype=string, numpy=array([b'n', b'i', b'c', b'k'], dtype=object)>"
      ]
     },
     "execution_count": 11,
     "metadata": {},
     "output_type": "execute_result"
    }
   ],
   "source": [
    "num_to_char([14,  9,  3, 11])"
   ]
  },
  {
   "cell_type": "code",
   "execution_count": 12,
   "id": "9491bab5-6a3c-4f79-879a-8f9fbe73ae2e",
   "metadata": {
    "tags": []
   },
   "outputs": [],
   "source": [
    "# Define a function to load alignments from a given path\n",
    "def load_alignments(path:str) -> List[str]: \n",
    "    # Open the file in read mode and get all the lines\n",
    "    with open(path, 'r') as f: \n",
    "        lines = f.readlines() \n",
    "        \n",
    "    # Initialize an empty list to hold the tokens    \n",
    "    tokens = []\n",
    "    \n",
    "    # Loop through each line in the file\n",
    "    for line in lines:\n",
    "        line = line.split() # Split the line into a list of words\n",
    "        if line[2] != 'sil': # If the third word in the line is not 'sil'\n",
    "            tokens = [*tokens,' ',line[2]] # Append a space and the third word to the tokens list\n",
    "            \n",
    "    # Split the tokens into individual characters, convert them to numerical values using char_to_num, and return the result\n",
    "    return char_to_num(tf.reshape(tf.strings.unicode_split(tokens, input_encoding='UTF-8'), (-1)))[1:]"
   ]
  },
  {
   "cell_type": "code",
   "execution_count": 13,
   "id": "dd01ca9f-77fb-4643-a2aa-47dd82c5d66b",
   "metadata": {
    "tags": []
   },
   "outputs": [],
   "source": [
    "def load_data(path: str): \n",
    "    # Decode path from bytes to string\n",
    "    path = bytes.decode(path.numpy())\n",
    "    # Get the file name from the path and remove the file extension\n",
    "    file_name = path.split('/')[-1].split('.')[0]\n",
    "    # Build paths to video and alignment files\n",
    "    video_path = os.path.join('data','s1',f'{file_name}.mpg')\n",
    "    alignment_path = os.path.join('data','alignments','s1',f'{file_name}.align')\n",
    "    # Load video frames and text alignments\n",
    "    frames = load_video(video_path) \n",
    "    alignments = load_alignments(alignment_path)\n",
    "    \n",
    "    return frames, alignments"
   ]
  },
  {
   "cell_type": "code",
   "execution_count": 14,
   "id": "8cb7cc58-31ae-4904-a805-1177a82717d2",
   "metadata": {
    "tags": []
   },
   "outputs": [],
   "source": [
    "test_path = './ata/s1/bbal6n.mpg'"
   ]
  },
  {
   "cell_type": "code",
   "execution_count": 15,
   "id": "76aa964f-0c84-490d-897a-d00e3966e2c9",
   "metadata": {},
   "outputs": [
    {
     "data": {
      "text/plain": [
       "''"
      ]
     },
     "execution_count": 15,
     "metadata": {},
     "output_type": "execute_result"
    }
   ],
   "source": [
    "tf.convert_to_tensor(test_path).numpy().decode('utf-8').split('\\\\')[-1].split('.')[0]"
   ]
  },
  {
   "cell_type": "code",
   "execution_count": 16,
   "id": "eb602c71-8560-4f9e-b26b-08202febb937",
   "metadata": {
    "scrolled": true,
    "tags": []
   },
   "outputs": [],
   "source": [
    "frames, alignments = load_data(tf.convert_to_tensor(test_path))"
   ]
  },
  {
   "cell_type": "code",
   "execution_count": 17,
   "id": "0e3184a1-6b02-4b4f-84a8-a0a65f951ea2",
   "metadata": {},
   "outputs": [
    {
     "data": {
      "text/plain": [
       "<matplotlib.image.AxesImage at 0x1785d9a90>"
      ]
     },
     "execution_count": 17,
     "metadata": {},
     "output_type": "execute_result"
    },
    {
     "data": {
      "image/png": "[encoded data removed]",
      "text/plain": [
       "<Figure size 640x480 with 1 Axes>"
      ]
     },
     "metadata": {},
     "output_type": "display_data"
    }
   ],
   "source": [
    "plt.imshow(frames[40])"
   ]
  },
  {
   "cell_type": "code",
   "execution_count": 18,
   "id": "d7ec0833-d54b-4073-84cf-92d011c60ec1",
   "metadata": {},
   "outputs": [
    {
     "data": {
      "text/plain": [
       "<tf.Tensor: shape=(21,), dtype=int64, numpy=\n",
       "array([ 2,  9, 14, 39,  2, 12, 21,  5, 39,  1, 20, 39, 12, 39, 19,  9, 24,\n",
       "       39, 14, 15, 23])>"
      ]
     },
     "execution_count": 18,
     "metadata": {},
     "output_type": "execute_result"
    }
   ],
   "source": [
    "alignments"
   ]
  },
  {
   "cell_type": "code",
   "execution_count": 19,
   "id": "fe1ad370-b287-4b46-85a2-7c45b0bd9b10",
   "metadata": {},
   "outputs": [
    {
     "data": {
      "text/plain": [
       "<tf.Tensor: shape=(), dtype=string, numpy=b'bin blue at l six now'>"
      ]
     },
     "execution_count": 19,
     "metadata": {},
     "output_type": "execute_result"
    }
   ],
   "source": [
    "tf.strings.reduce_join([bytes.decode(x) for x in num_to_char(alignments.numpy()).numpy()])"
   ]
  },
  {
   "cell_type": "code",
   "execution_count": 20,
   "id": "6871031a-b0ba-4c76-a852-f6329b0f2606",
   "metadata": {
    "tags": []
   },
   "outputs": [],
   "source": [
    "def mappable_function(path:str) ->List[str]:\n",
    "    result = tf.py_function(load_data, [path], (tf.float32, tf.int64))\n",
    "    return result"
   ]
  },
  {
   "cell_type": "markdown",
   "id": "c40a7eb4-0c3e-4eab-9291-5611cb68ce08",
   "metadata": {
    "tags": []
   },
   "source": [
    "# 2. Create Data Pipeline"
   ]
  },
  {
   "cell_type": "code",
   "execution_count": 21,
   "id": "7686355d-45aa-4c85-ad9c-053e6a9b4d81",
   "metadata": {
    "tags": []
   },
   "outputs": [],
   "source": [
    "from matplotlib import pyplot as plt"
   ]
  },
  {
   "cell_type": "code",
   "execution_count": 22,
   "id": "f066fea2-91b1-42ed-a67d-00566a1a53ff",
   "metadata": {
    "tags": []
   },
   "outputs": [],
   "source": [
    "data = tf.data.Dataset.list_files('./data/s1/*.mpg')\n",
    "data = data.shuffle(500)\n",
    "data = data.map(mappable_function)\n",
    "data = data.padded_batch(2, padded_shapes=([75,None,None,None],[40]))\n",
    "data = data.prefetch(tf.data.AUTOTUNE)\n",
    "# Added for split \n",
    "train = data.take(450)\n",
    "test = data.skip(450)"
   ]
  },
  {
   "cell_type": "code",
   "execution_count": 23,
   "id": "6b1365bd-7742-41d1-95d4-247021751c3a",
   "metadata": {},
   "outputs": [
    {
     "data": {
      "text/plain": [
       "50"
      ]
     },
     "execution_count": 23,
     "metadata": {},
     "output_type": "execute_result"
    }
   ],
   "source": [
    "len(test)"
   ]
  },
  {
   "cell_type": "code",
   "execution_count": 24,
   "id": "5281bde8-fdc8-4da1-bd55-5a7929a9e80c",
   "metadata": {},
   "outputs": [],
   "source": [
    "frames, alignments = data.as_numpy_iterator().next()"
   ]
  },
  {
   "cell_type": "code",
   "execution_count": 25,
   "id": "cbebe683-6afd-47fd-bba4-c83b4b13bb32",
   "metadata": {},
   "outputs": [
    {
     "data": {
      "text/plain": [
       "2"
      ]
     },
     "execution_count": 25,
     "metadata": {},
     "output_type": "execute_result"
    }
   ],
   "source": [
    "len(frames)"
   ]
  },
  {
   "cell_type": "code",
   "execution_count": 26,
   "id": "8fad4b6b",
   "metadata": {},
   "outputs": [
    {
     "data": {
      "text/plain": [
       "array([[16, 12,  1,  3,  5, 39,  2, 12, 21,  5, 39,  2, 25, 39,  3, 39,\n",
       "        19,  5, 22,  5, 14, 39,  1,  7,  1,  9, 14,  0,  0,  0,  0,  0,\n",
       "         0,  0,  0,  0,  0,  0,  0,  0],\n",
       "       [16, 12,  1,  3,  5, 39, 18,  5,  4, 39, 23,  9, 20,  8, 39, 17,\n",
       "        39, 20,  8, 18,  5,  5, 39, 19, 15, 15, 14,  0,  0,  0,  0,  0,\n",
       "         0,  0,  0,  0,  0,  0,  0,  0]])"
      ]
     },
     "execution_count": 26,
     "metadata": {},
     "output_type": "execute_result"
    }
   ],
   "source": [
    "alignments"
   ]
  },
  {
   "cell_type": "code",
   "execution_count": 27,
   "id": "00dce5a0",
   "metadata": {},
   "outputs": [
    {
     "data": {
      "text/plain": [
       "array([[[[[ 1.2065473 ],\n",
       "          [ 1.2065473 ],\n",
       "          [ 1.2065473 ],\n",
       "          ...,\n",
       "          [ 0.44240063],\n",
       "          [ 0.44240063],\n",
       "          [ 0.36196417]],\n",
       "\n",
       "         [[ 1.2065473 ],\n",
       "          [ 1.2065473 ],\n",
       "          [ 1.2065473 ],\n",
       "          ...,\n",
       "          [ 0.4021824 ],\n",
       "          [ 0.36196417],\n",
       "          [ 0.36196417]],\n",
       "\n",
       "         [[ 1.2065473 ],\n",
       "          [ 1.2065473 ],\n",
       "          [ 1.2065473 ],\n",
       "          ...,\n",
       "          [ 0.2010912 ],\n",
       "          [ 0.32174593],\n",
       "          [ 0.2010912 ]],\n",
       "\n",
       "         ...,\n",
       "\n",
       "         [[ 0.88480127],\n",
       "          [ 0.88480127],\n",
       "          [ 0.88480127],\n",
       "          ...,\n",
       "          [ 0.9250195 ],\n",
       "          [ 1.0456742 ],\n",
       "          [ 0.9250195 ]],\n",
       "\n",
       "         [[ 0.84458303],\n",
       "          [ 0.84458303],\n",
       "          [ 0.84458303],\n",
       "          ...,\n",
       "          [ 0.72392833],\n",
       "          [ 0.9250195 ],\n",
       "          [ 0.88480127]],\n",
       "\n",
       "         [[ 0.84458303],\n",
       "          [ 0.84458303],\n",
       "          [ 0.84458303],\n",
       "          ...,\n",
       "          [ 0.76414657],\n",
       "          [ 0.9250195 ],\n",
       "          [ 0.9652378 ]]],\n",
       "\n",
       "\n",
       "        [[[ 1.2065473 ],\n",
       "          [ 1.2065473 ],\n",
       "          [ 1.2065473 ],\n",
       "          ...,\n",
       "          [ 0.44240063],\n",
       "          [ 0.32174593],\n",
       "          [ 0.32174593]],\n",
       "\n",
       "         [[ 1.2065473 ],\n",
       "          [ 1.2065473 ],\n",
       "          [ 1.2065473 ],\n",
       "          ...,\n",
       "          [ 0.44240063],\n",
       "          [ 0.2815277 ],\n",
       "          [ 0.2815277 ]],\n",
       "\n",
       "         [[ 1.166329  ],\n",
       "          [ 1.166329  ],\n",
       "          [ 1.166329  ],\n",
       "          ...,\n",
       "          [ 0.44240063],\n",
       "          [ 0.24130945],\n",
       "          [ 0.2010912 ]],\n",
       "\n",
       "         ...,\n",
       "\n",
       "         [[ 0.8043648 ],\n",
       "          [ 0.8043648 ],\n",
       "          [ 0.76414657],\n",
       "          ...,\n",
       "          [ 0.88480127],\n",
       "          [ 1.005456  ],\n",
       "          [ 0.9652378 ]],\n",
       "\n",
       "         [[ 0.76414657],\n",
       "          [ 0.76414657],\n",
       "          [ 0.72392833],\n",
       "          ...,\n",
       "          [ 0.9250195 ],\n",
       "          [ 0.9250195 ],\n",
       "          [ 0.9652378 ]],\n",
       "\n",
       "         [[ 0.76414657],\n",
       "          [ 0.76414657],\n",
       "          [ 0.6837101 ],\n",
       "          ...,\n",
       "          [ 0.9250195 ],\n",
       "          [ 0.88480127],\n",
       "          [ 1.0858924 ]]],\n",
       "\n",
       "\n",
       "        [[[ 1.2065473 ],\n",
       "          [ 1.2065473 ],\n",
       "          [ 1.2065473 ],\n",
       "          ...,\n",
       "          [ 0.32174593],\n",
       "          [ 0.32174593],\n",
       "          [ 0.32174593]],\n",
       "\n",
       "         [[ 1.2065473 ],\n",
       "          [ 1.2065473 ],\n",
       "          [ 1.2065473 ],\n",
       "          ...,\n",
       "          [ 0.32174593],\n",
       "          [ 0.2815277 ],\n",
       "          [ 0.24130945]],\n",
       "\n",
       "         [[ 1.166329  ],\n",
       "          [ 1.166329  ],\n",
       "          [ 1.166329  ],\n",
       "          ...,\n",
       "          [ 0.4021824 ],\n",
       "          [ 0.12065472],\n",
       "          [ 0.2010912 ]],\n",
       "\n",
       "         ...,\n",
       "\n",
       "         [[ 0.8043648 ],\n",
       "          [ 0.8043648 ],\n",
       "          [ 0.8043648 ],\n",
       "          ...,\n",
       "          [ 0.9652378 ],\n",
       "          [ 1.0456742 ],\n",
       "          [ 1.005456  ]],\n",
       "\n",
       "         [[ 0.8043648 ],\n",
       "          [ 0.8043648 ],\n",
       "          [ 0.76414657],\n",
       "          ...,\n",
       "          [ 0.9250195 ],\n",
       "          [ 0.88480127],\n",
       "          [ 0.9652378 ]],\n",
       "\n",
       "         [[ 0.8043648 ],\n",
       "          [ 0.8043648 ],\n",
       "          [ 0.72392833],\n",
       "          ...,\n",
       "          [ 0.88480127],\n",
       "          [ 0.8043648 ],\n",
       "          [ 1.0456742 ]]],\n",
       "\n",
       "\n",
       "        ...,\n",
       "\n",
       "\n",
       "        [[[ 1.2467655 ],\n",
       "          [ 1.2467655 ],\n",
       "          [ 1.2065473 ],\n",
       "          ...,\n",
       "          [ 0.5630554 ],\n",
       "          [ 0.5630554 ],\n",
       "          [ 0.5228371 ]],\n",
       "\n",
       "         [[ 1.2467655 ],\n",
       "          [ 1.2467655 ],\n",
       "          [ 1.2065473 ],\n",
       "          ...,\n",
       "          [ 0.5630554 ],\n",
       "          [ 0.5630554 ],\n",
       "          [ 0.4826189 ]],\n",
       "\n",
       "         [[ 1.0858924 ],\n",
       "          [ 1.0858924 ],\n",
       "          [ 1.0858924 ],\n",
       "          ...,\n",
       "          [ 0.4021824 ],\n",
       "          [ 0.44240063],\n",
       "          [ 0.5228371 ]],\n",
       "\n",
       "         ...,\n",
       "\n",
       "         [[ 0.72392833],\n",
       "          [ 0.72392833],\n",
       "          [ 0.72392833],\n",
       "          ...,\n",
       "          [ 0.72392833],\n",
       "          [ 0.6837101 ],\n",
       "          [ 0.76414657]],\n",
       "\n",
       "         [[ 0.72392833],\n",
       "          [ 0.72392833],\n",
       "          [ 0.72392833],\n",
       "          ...,\n",
       "          [ 0.6837101 ],\n",
       "          [ 0.72392833],\n",
       "          [ 0.72392833]],\n",
       "\n",
       "         [[ 0.72392833],\n",
       "          [ 0.72392833],\n",
       "          [ 0.72392833],\n",
       "          ...,\n",
       "          [ 0.6837101 ],\n",
       "          [ 0.84458303],\n",
       "          [ 0.64349186]]],\n",
       "\n",
       "\n",
       "        [[[ 1.2467655 ],\n",
       "          [ 1.2065473 ],\n",
       "          [ 1.2065473 ],\n",
       "          ...,\n",
       "          [ 0.5630554 ],\n",
       "          [ 0.5630554 ],\n",
       "          [ 0.5630554 ]],\n",
       "\n",
       "         [[ 1.2065473 ],\n",
       "          [ 1.166329  ],\n",
       "          [ 1.166329  ],\n",
       "          ...,\n",
       "          [ 0.5630554 ],\n",
       "          [ 0.5630554 ],\n",
       "          [ 0.5228371 ]],\n",
       "\n",
       "         [[ 1.0858924 ],\n",
       "          [ 1.0858924 ],\n",
       "          [ 1.1261108 ],\n",
       "          ...,\n",
       "          [ 0.4021824 ],\n",
       "          [ 0.5228371 ],\n",
       "          [ 0.5630554 ]],\n",
       "\n",
       "         ...,\n",
       "\n",
       "         [[ 0.72392833],\n",
       "          [ 0.72392833],\n",
       "          [ 0.72392833],\n",
       "          ...,\n",
       "          [ 0.84458303],\n",
       "          [ 0.72392833],\n",
       "          [ 0.84458303]],\n",
       "\n",
       "         [[ 0.72392833],\n",
       "          [ 0.72392833],\n",
       "          [ 0.72392833],\n",
       "          ...,\n",
       "          [ 0.84458303],\n",
       "          [ 0.84458303],\n",
       "          [ 0.8043648 ]],\n",
       "\n",
       "         [[ 0.72392833],\n",
       "          [ 0.72392833],\n",
       "          [ 0.72392833],\n",
       "          ...,\n",
       "          [ 0.76414657],\n",
       "          [ 0.9652378 ],\n",
       "          [ 0.6837101 ]]],\n",
       "\n",
       "\n",
       "        [[[ 1.2467655 ],\n",
       "          [ 1.2065473 ],\n",
       "          [ 1.2065473 ],\n",
       "          ...,\n",
       "          [ 0.5630554 ],\n",
       "          [ 0.5630554 ],\n",
       "          [ 0.5630554 ]],\n",
       "\n",
       "         [[ 1.2065473 ],\n",
       "          [ 1.166329  ],\n",
       "          [ 1.166329  ],\n",
       "          ...,\n",
       "          [ 0.5630554 ],\n",
       "          [ 0.5630554 ],\n",
       "          [ 0.5228371 ]],\n",
       "\n",
       "         [[ 1.0858924 ],\n",
       "          [ 1.0858924 ],\n",
       "          [ 1.1261108 ],\n",
       "          ...,\n",
       "          [ 0.4021824 ],\n",
       "          [ 0.4826189 ],\n",
       "          [ 0.5630554 ]],\n",
       "\n",
       "         ...,\n",
       "\n",
       "         [[ 0.84458303],\n",
       "          [ 0.8043648 ],\n",
       "          [ 0.8043648 ],\n",
       "          ...,\n",
       "          [ 0.72392833],\n",
       "          [ 0.72392833],\n",
       "          [ 0.8043648 ]],\n",
       "\n",
       "         [[ 0.8043648 ],\n",
       "          [ 0.8043648 ],\n",
       "          [ 0.8043648 ],\n",
       "          ...,\n",
       "          [ 0.76414657],\n",
       "          [ 0.72392833],\n",
       "          [ 0.76414657]],\n",
       "\n",
       "         [[ 0.8043648 ],\n",
       "          [ 0.8043648 ],\n",
       "          [ 0.8043648 ],\n",
       "          ...,\n",
       "          [ 0.76414657],\n",
       "          [ 0.76414657],\n",
       "          [ 0.64349186]]]],\n",
       "\n",
       "\n",
       "\n",
       "       [[[[ 1.3847487 ],\n",
       "          [ 1.3847487 ],\n",
       "          [ 1.3056202 ],\n",
       "          ...,\n",
       "          [ 9.732805  ],\n",
       "          [ 0.11869274],\n",
       "          [ 0.0791285 ]],\n",
       "\n",
       "         [[ 1.3847487 ],\n",
       "          [ 1.3847487 ],\n",
       "          [ 1.3056202 ],\n",
       "          ...,\n",
       "          [ 9.8119335 ],\n",
       "          [ 0.        ],\n",
       "          [ 0.        ]],\n",
       "\n",
       "         [[ 1.266056  ],\n",
       "          [ 1.266056  ],\n",
       "          [ 1.266056  ],\n",
       "          ...,\n",
       "          [10.088883  ],\n",
       "          [ 0.03956425],\n",
       "          [ 0.03956425]],\n",
       "\n",
       "         ...,\n",
       "\n",
       "         [[ 0.8704134 ],\n",
       "          [ 0.8704134 ],\n",
       "          [ 0.8704134 ],\n",
       "          ...,\n",
       "          [ 9.930626  ],\n",
       "          [ 9.851498  ],\n",
       "          [ 9.851498  ]],\n",
       "\n",
       "         [[ 0.8704134 ],\n",
       "          [ 0.8704134 ],\n",
       "          [ 0.8704134 ],\n",
       "          ...,\n",
       "          [ 9.891062  ],\n",
       "          [ 9.891062  ],\n",
       "          [ 9.891062  ]],\n",
       "\n",
       "         [[ 0.8704134 ],\n",
       "          [ 0.8704134 ],\n",
       "          [ 0.8704134 ],\n",
       "          ...,\n",
       "          [ 9.891062  ],\n",
       "          [ 9.891062  ],\n",
       "          [ 9.891062  ]]],\n",
       "\n",
       "\n",
       "        [[[ 1.3847487 ],\n",
       "          [ 1.3847487 ],\n",
       "          [ 1.3451844 ],\n",
       "          ...,\n",
       "          [ 9.732805  ],\n",
       "          [ 0.0791285 ],\n",
       "          [ 0.0791285 ]],\n",
       "\n",
       "         [[ 1.3847487 ],\n",
       "          [ 1.3847487 ],\n",
       "          [ 1.3451844 ],\n",
       "          ...,\n",
       "          [ 9.772369  ],\n",
       "          [10.009754  ],\n",
       "          [ 0.11869274]],\n",
       "\n",
       "         [[ 1.266056  ],\n",
       "          [ 1.266056  ],\n",
       "          [ 1.266056  ],\n",
       "          ...,\n",
       "          [10.009754  ],\n",
       "          [ 0.        ],\n",
       "          [ 0.        ]],\n",
       "\n",
       "         ...,\n",
       "\n",
       "         [[ 0.8704134 ],\n",
       "          [ 0.8704134 ],\n",
       "          [ 0.8704134 ],\n",
       "          ...,\n",
       "          [ 9.97019   ],\n",
       "          [ 9.930626  ],\n",
       "          [ 9.930626  ]],\n",
       "\n",
       "         [[ 0.8704134 ],\n",
       "          [ 0.8704134 ],\n",
       "          [ 0.8704134 ],\n",
       "          ...,\n",
       "          [ 9.97019   ],\n",
       "          [ 9.930626  ],\n",
       "          [ 9.930626  ]],\n",
       "\n",
       "         [[ 0.8704134 ],\n",
       "          [ 0.8704134 ],\n",
       "          [ 0.8704134 ],\n",
       "          ...,\n",
       "          [ 9.97019   ],\n",
       "          [ 9.930626  ],\n",
       "          [ 9.891062  ]]],\n",
       "\n",
       "\n",
       "        [[[ 1.3056202 ],\n",
       "          [ 1.3056202 ],\n",
       "          [ 1.3056202 ],\n",
       "          ...,\n",
       "          [ 9.732805  ],\n",
       "          [ 0.03956425],\n",
       "          [ 0.0791285 ]],\n",
       "\n",
       "         [[ 1.3056202 ],\n",
       "          [ 1.3056202 ],\n",
       "          [ 1.3056202 ],\n",
       "          ...,\n",
       "          [ 9.693241  ],\n",
       "          [10.049319  ],\n",
       "          [ 0.158257  ]],\n",
       "\n",
       "         [[ 1.266056  ],\n",
       "          [ 1.266056  ],\n",
       "          [ 1.266056  ],\n",
       "          ...,\n",
       "          [10.049319  ],\n",
       "          [ 0.03956425],\n",
       "          [ 0.03956425]],\n",
       "\n",
       "         ...,\n",
       "\n",
       "         [[ 0.8704134 ],\n",
       "          [ 0.8704134 ],\n",
       "          [ 0.8704134 ],\n",
       "          ...,\n",
       "          [ 9.930626  ],\n",
       "          [ 9.891062  ],\n",
       "          [ 9.891062  ]],\n",
       "\n",
       "         [[ 0.8704134 ],\n",
       "          [ 0.8704134 ],\n",
       "          [ 0.8704134 ],\n",
       "          ...,\n",
       "          [ 9.930626  ],\n",
       "          [ 9.930626  ],\n",
       "          [ 9.930626  ]],\n",
       "\n",
       "         [[ 0.8704134 ],\n",
       "          [ 0.8704134 ],\n",
       "          [ 0.8704134 ],\n",
       "          ...,\n",
       "          [ 9.930626  ],\n",
       "          [ 9.930626  ],\n",
       "          [ 9.891062  ]]],\n",
       "\n",
       "\n",
       "        ...,\n",
       "\n",
       "\n",
       "        [[[ 1.3847487 ],\n",
       "          [ 1.3847487 ],\n",
       "          [ 1.3451844 ],\n",
       "          ...,\n",
       "          [ 9.693241  ],\n",
       "          [10.009754  ],\n",
       "          [10.088883  ]],\n",
       "\n",
       "         [[ 1.3847487 ],\n",
       "          [ 1.3847487 ],\n",
       "          [ 1.3451844 ],\n",
       "          ...,\n",
       "          [ 9.534984  ],\n",
       "          [10.049319  ],\n",
       "          [ 9.97019   ]],\n",
       "\n",
       "         [[ 1.266056  ],\n",
       "          [ 1.266056  ],\n",
       "          [ 1.266056  ],\n",
       "          ...,\n",
       "          [10.049319  ],\n",
       "          [10.088883  ],\n",
       "          [10.088883  ]],\n",
       "\n",
       "         ...,\n",
       "\n",
       "         [[ 0.8704134 ],\n",
       "          [ 0.8704134 ],\n",
       "          [ 0.8704134 ],\n",
       "          ...,\n",
       "          [ 9.930626  ],\n",
       "          [ 9.891062  ],\n",
       "          [ 9.891062  ]],\n",
       "\n",
       "         [[ 0.8704134 ],\n",
       "          [ 0.8704134 ],\n",
       "          [ 0.8704134 ],\n",
       "          ...,\n",
       "          [ 9.930626  ],\n",
       "          [ 9.930626  ],\n",
       "          [ 9.930626  ]],\n",
       "\n",
       "         [[ 0.8704134 ],\n",
       "          [ 0.8704134 ],\n",
       "          [ 0.8704134 ],\n",
       "          ...,\n",
       "          [ 9.930626  ],\n",
       "          [ 9.930626  ],\n",
       "          [ 9.930626  ]]],\n",
       "\n",
       "\n",
       "        [[[ 1.3847487 ],\n",
       "          [ 1.3847487 ],\n",
       "          [ 1.424313  ],\n",
       "          ...,\n",
       "          [ 9.732805  ],\n",
       "          [ 9.930626  ],\n",
       "          [10.009754  ]],\n",
       "\n",
       "         [[ 1.3451844 ],\n",
       "          [ 1.3451844 ],\n",
       "          [ 1.3451844 ],\n",
       "          ...,\n",
       "          [ 9.614112  ],\n",
       "          [ 9.930626  ],\n",
       "          [ 9.891062  ]],\n",
       "\n",
       "         [[ 1.2264917 ],\n",
       "          [ 1.2264917 ],\n",
       "          [ 1.2264917 ],\n",
       "          ...,\n",
       "          [ 9.97019   ],\n",
       "          [ 0.0791285 ],\n",
       "          [ 0.03956425]],\n",
       "\n",
       "         ...,\n",
       "\n",
       "         [[ 0.8704134 ],\n",
       "          [ 0.8704134 ],\n",
       "          [ 0.9099777 ],\n",
       "          ...,\n",
       "          [ 9.97019   ],\n",
       "          [ 9.97019   ],\n",
       "          [ 9.97019   ]],\n",
       "\n",
       "         [[ 0.8704134 ],\n",
       "          [ 0.8704134 ],\n",
       "          [ 0.8704134 ],\n",
       "          ...,\n",
       "          [ 9.930626  ],\n",
       "          [ 9.97019   ],\n",
       "          [ 9.97019   ]],\n",
       "\n",
       "         [[ 0.8704134 ],\n",
       "          [ 0.8704134 ],\n",
       "          [ 0.8704134 ],\n",
       "          ...,\n",
       "          [ 9.930626  ],\n",
       "          [ 9.97019   ],\n",
       "          [ 9.97019   ]]],\n",
       "\n",
       "\n",
       "        [[[ 1.3451844 ],\n",
       "          [ 1.3451844 ],\n",
       "          [ 1.3451844 ],\n",
       "          ...,\n",
       "          [ 9.851498  ],\n",
       "          [10.049319  ],\n",
       "          [10.049319  ]],\n",
       "\n",
       "         [[ 1.3056202 ],\n",
       "          [ 1.3056202 ],\n",
       "          [ 1.3056202 ],\n",
       "          ...,\n",
       "          [ 9.732805  ],\n",
       "          [ 0.        ],\n",
       "          [10.009754  ]],\n",
       "\n",
       "         [[ 1.266056  ],\n",
       "          [ 1.266056  ],\n",
       "          [ 1.266056  ],\n",
       "          ...,\n",
       "          [ 9.97019   ],\n",
       "          [ 0.03956425],\n",
       "          [ 0.        ]],\n",
       "\n",
       "         ...,\n",
       "\n",
       "         [[ 0.9099777 ],\n",
       "          [ 0.9099777 ],\n",
       "          [ 0.9891062 ],\n",
       "          ...,\n",
       "          [ 9.891062  ],\n",
       "          [ 9.930626  ],\n",
       "          [ 9.930626  ]],\n",
       "\n",
       "         [[ 0.8704134 ],\n",
       "          [ 0.8704134 ],\n",
       "          [ 0.9099777 ],\n",
       "          ...,\n",
       "          [ 9.891062  ],\n",
       "          [ 9.930626  ],\n",
       "          [ 9.930626  ]],\n",
       "\n",
       "         [[ 0.8704134 ],\n",
       "          [ 0.8704134 ],\n",
       "          [ 0.8704134 ],\n",
       "          ...,\n",
       "          [ 9.891062  ],\n",
       "          [ 9.930626  ],\n",
       "          [ 9.930626  ]]]]], dtype=float32)"
      ]
     },
     "execution_count": 27,
     "metadata": {},
     "output_type": "execute_result"
    }
   ],
   "source": [
    "frames"
   ]
  },
  {
   "cell_type": "code",
   "execution_count": 28,
   "id": "5cf2d676-93a9-434c-b3c7-bdcc2577b2e7",
   "metadata": {
    "tags": []
   },
   "outputs": [],
   "source": [
    "sample = data.as_numpy_iterator()"
   ]
  },
  {
   "cell_type": "code",
   "execution_count": 29,
   "id": "efa6cd46-7079-46c0-b45b-832f339f6cb0",
   "metadata": {
    "scrolled": true,
    "tags": []
   },
   "outputs": [
    {
     "data": {
      "text/plain": [
       "array([[[[[ 1.3836881 ],\n",
       "          [ 1.3836881 ],\n",
       "          [ 1.4650815 ],\n",
       "          ...,\n",
       "          [10.377661  ],\n",
       "          [ 0.        ],\n",
       "          [ 0.        ]],\n",
       "\n",
       "         [[ 1.3836881 ],\n",
       "          [ 1.3836881 ],\n",
       "          [ 1.4650815 ],\n",
       "          ...,\n",
       "          [10.377661  ],\n",
       "          [ 0.        ],\n",
       "          [ 0.        ]],\n",
       "\n",
       "         [[ 1.3836881 ],\n",
       "          [ 1.3836881 ],\n",
       "          [ 1.3836881 ],\n",
       "          ...,\n",
       "          [10.336964  ],\n",
       "          [10.336964  ],\n",
       "          [10.336964  ]],\n",
       "\n",
       "         ...,\n",
       "\n",
       "         [[ 0.9360243 ],\n",
       "          [ 0.9360243 ],\n",
       "          [ 0.9360243 ],\n",
       "          ...,\n",
       "          [10.13348   ],\n",
       "          [10.13348   ],\n",
       "          [10.13348   ]],\n",
       "\n",
       "         [[ 0.9360243 ],\n",
       "          [ 0.9360243 ],\n",
       "          [ 0.9360243 ],\n",
       "          ...,\n",
       "          [10.092784  ],\n",
       "          [10.092784  ],\n",
       "          [10.092784  ]],\n",
       "\n",
       "         [[ 0.9360243 ],\n",
       "          [ 0.9360243 ],\n",
       "          [ 0.9360243 ],\n",
       "          ...,\n",
       "          [10.092784  ],\n",
       "          [10.092784  ],\n",
       "          [10.092784  ]]],\n",
       "\n",
       "\n",
       "        [[[ 1.3022946 ],\n",
       "          [ 1.3022946 ],\n",
       "          [ 1.3836881 ],\n",
       "          ...,\n",
       "          [10.336964  ],\n",
       "          [10.336964  ],\n",
       "          [10.336964  ]],\n",
       "\n",
       "         [[ 1.3022946 ],\n",
       "          [ 1.3022946 ],\n",
       "          [ 1.3836881 ],\n",
       "          ...,\n",
       "          [10.336964  ],\n",
       "          [10.336964  ],\n",
       "          [10.336964  ]],\n",
       "\n",
       "         [[ 1.3836881 ],\n",
       "          [ 1.3836881 ],\n",
       "          [ 1.3836881 ],\n",
       "          ...,\n",
       "          [10.377661  ],\n",
       "          [10.377661  ],\n",
       "          [10.377661  ]],\n",
       "\n",
       "         ...,\n",
       "\n",
       "         [[ 1.0174177 ],\n",
       "          [ 0.976721  ],\n",
       "          [ 0.976721  ],\n",
       "          ...,\n",
       "          [10.092784  ],\n",
       "          [10.092784  ],\n",
       "          [10.092784  ]],\n",
       "\n",
       "         [[ 0.976721  ],\n",
       "          [ 0.976721  ],\n",
       "          [ 0.976721  ],\n",
       "          ...,\n",
       "          [10.092784  ],\n",
       "          [10.092784  ],\n",
       "          [10.092784  ]],\n",
       "\n",
       "         [[ 0.976721  ],\n",
       "          [ 0.976721  ],\n",
       "          [ 0.976721  ],\n",
       "          ...,\n",
       "          [10.092784  ],\n",
       "          [10.092784  ],\n",
       "          [10.092784  ]]],\n",
       "\n",
       "\n",
       "        [[[ 1.3836881 ],\n",
       "          [ 1.3836881 ],\n",
       "          [ 1.3836881 ],\n",
       "          ...,\n",
       "          [10.377661  ],\n",
       "          [10.336964  ],\n",
       "          [10.336964  ]],\n",
       "\n",
       "         [[ 1.3836881 ],\n",
       "          [ 1.3836881 ],\n",
       "          [ 1.3836881 ],\n",
       "          ...,\n",
       "          [10.377661  ],\n",
       "          [10.336964  ],\n",
       "          [10.336964  ]],\n",
       "\n",
       "         [[ 1.3836881 ],\n",
       "          [ 1.3836881 ],\n",
       "          [ 1.3836881 ],\n",
       "          ...,\n",
       "          [10.336964  ],\n",
       "          [10.336964  ],\n",
       "          [10.336964  ]],\n",
       "\n",
       "         ...,\n",
       "\n",
       "         [[ 0.976721  ],\n",
       "          [ 0.976721  ],\n",
       "          [ 0.976721  ],\n",
       "          ...,\n",
       "          [10.092784  ],\n",
       "          [10.092784  ],\n",
       "          [10.092784  ]],\n",
       "\n",
       "         [[ 0.976721  ],\n",
       "          [ 0.976721  ],\n",
       "          [ 0.976721  ],\n",
       "          ...,\n",
       "          [10.092784  ],\n",
       "          [10.092784  ],\n",
       "          [10.092784  ]],\n",
       "\n",
       "         [[ 0.976721  ],\n",
       "          [ 0.976721  ],\n",
       "          [ 0.9360243 ],\n",
       "          ...,\n",
       "          [10.092784  ],\n",
       "          [10.092784  ],\n",
       "          [10.092784  ]]],\n",
       "\n",
       "\n",
       "        ...,\n",
       "\n",
       "\n",
       "        [[[ 1.4243848 ],\n",
       "          [ 1.4243848 ],\n",
       "          [ 1.4650815 ],\n",
       "          ...,\n",
       "          [ 0.        ],\n",
       "          [ 0.04069671],\n",
       "          [ 0.04069671]],\n",
       "\n",
       "         [[ 1.4243848 ],\n",
       "          [ 1.4243848 ],\n",
       "          [ 1.4650815 ],\n",
       "          ...,\n",
       "          [10.377661  ],\n",
       "          [ 0.        ],\n",
       "          [ 0.        ]],\n",
       "\n",
       "         [[ 1.3429914 ],\n",
       "          [ 1.3429914 ],\n",
       "          [ 1.3429914 ],\n",
       "          ...,\n",
       "          [10.336964  ],\n",
       "          [10.336964  ],\n",
       "          [10.336964  ]],\n",
       "\n",
       "         ...,\n",
       "\n",
       "         [[ 1.0174177 ],\n",
       "          [ 1.0174177 ],\n",
       "          [ 1.0174177 ],\n",
       "          ...,\n",
       "          [10.052087  ],\n",
       "          [10.052087  ],\n",
       "          [10.052087  ]],\n",
       "\n",
       "         [[ 1.0174177 ],\n",
       "          [ 1.0174177 ],\n",
       "          [ 1.0174177 ],\n",
       "          ...,\n",
       "          [10.092784  ],\n",
       "          [10.092784  ],\n",
       "          [10.092784  ]],\n",
       "\n",
       "         [[ 1.0174177 ],\n",
       "          [ 1.0174177 ],\n",
       "          [ 1.0174177 ],\n",
       "          ...,\n",
       "          [10.092784  ],\n",
       "          [10.092784  ],\n",
       "          [10.092784  ]]],\n",
       "\n",
       "\n",
       "        [[[ 1.4243848 ],\n",
       "          [ 1.4243848 ],\n",
       "          [ 1.5057782 ],\n",
       "          ...,\n",
       "          [10.336964  ],\n",
       "          [10.377661  ],\n",
       "          [10.377661  ]],\n",
       "\n",
       "         [[ 1.4243848 ],\n",
       "          [ 1.4243848 ],\n",
       "          [ 1.5057782 ],\n",
       "          ...,\n",
       "          [10.2962675 ],\n",
       "          [10.336964  ],\n",
       "          [10.336964  ]],\n",
       "\n",
       "         [[ 1.3429914 ],\n",
       "          [ 1.3429914 ],\n",
       "          [ 1.3429914 ],\n",
       "          ...,\n",
       "          [10.377661  ],\n",
       "          [ 0.        ],\n",
       "          [ 0.        ]],\n",
       "\n",
       "         ...,\n",
       "\n",
       "         [[ 1.0174177 ],\n",
       "          [ 1.0174177 ],\n",
       "          [ 1.0174177 ],\n",
       "          ...,\n",
       "          [10.13348   ],\n",
       "          [10.13348   ],\n",
       "          [10.13348   ]],\n",
       "\n",
       "         [[ 1.0174177 ],\n",
       "          [ 1.0174177 ],\n",
       "          [ 1.0174177 ],\n",
       "          ...,\n",
       "          [10.092784  ],\n",
       "          [10.092784  ],\n",
       "          [10.092784  ]],\n",
       "\n",
       "         [[ 1.0174177 ],\n",
       "          [ 1.0174177 ],\n",
       "          [ 1.0174177 ],\n",
       "          ...,\n",
       "          [10.092784  ],\n",
       "          [10.092784  ],\n",
       "          [10.092784  ]]],\n",
       "\n",
       "\n",
       "        [[[ 1.4243848 ],\n",
       "          [ 1.4243848 ],\n",
       "          [ 1.4650815 ],\n",
       "          ...,\n",
       "          [ 0.04069671],\n",
       "          [ 0.04069671],\n",
       "          [ 0.04069671]],\n",
       "\n",
       "         [[ 1.4243848 ],\n",
       "          [ 1.4243848 ],\n",
       "          [ 1.4650815 ],\n",
       "          ...,\n",
       "          [10.377661  ],\n",
       "          [ 0.04069671],\n",
       "          [ 0.        ]],\n",
       "\n",
       "         [[ 1.3836881 ],\n",
       "          [ 1.3836881 ],\n",
       "          [ 1.3429914 ],\n",
       "          ...,\n",
       "          [10.377661  ],\n",
       "          [10.336964  ],\n",
       "          [10.336964  ]],\n",
       "\n",
       "         ...,\n",
       "\n",
       "         [[ 0.976721  ],\n",
       "          [ 0.976721  ],\n",
       "          [ 0.976721  ],\n",
       "          ...,\n",
       "          [10.092784  ],\n",
       "          [10.052087  ],\n",
       "          [10.052087  ]],\n",
       "\n",
       "         [[ 0.976721  ],\n",
       "          [ 0.976721  ],\n",
       "          [ 0.976721  ],\n",
       "          ...,\n",
       "          [10.092784  ],\n",
       "          [10.052087  ],\n",
       "          [10.052087  ]],\n",
       "\n",
       "         [[ 0.976721  ],\n",
       "          [ 0.976721  ],\n",
       "          [ 0.976721  ],\n",
       "          ...,\n",
       "          [10.092784  ],\n",
       "          [10.052087  ],\n",
       "          [10.052087  ]]]],\n",
       "\n",
       "\n",
       "\n",
       "       [[[[ 1.4350775 ],\n",
       "          [ 1.4350775 ],\n",
       "          [ 1.3940754 ],\n",
       "          ...,\n",
       "          [ 0.04100222],\n",
       "          [ 0.        ],\n",
       "          [ 0.        ]],\n",
       "\n",
       "         [[ 1.4350775 ],\n",
       "          [ 1.4350775 ],\n",
       "          [ 1.3940754 ],\n",
       "          ...,\n",
       "          [ 0.04100222],\n",
       "          [ 0.        ],\n",
       "          [ 0.        ]],\n",
       "\n",
       "         [[ 1.312071  ],\n",
       "          [ 1.312071  ],\n",
       "          [ 1.312071  ],\n",
       "          ...,\n",
       "          [ 0.08200444],\n",
       "          [ 0.04100222],\n",
       "          [ 0.04100222]],\n",
       "\n",
       "         ...,\n",
       "\n",
       "         [[ 0.9840532 ],\n",
       "          [ 0.9840532 ],\n",
       "          [ 0.943051  ],\n",
       "          ...,\n",
       "          [10.209552  ],\n",
       "          [10.209552  ],\n",
       "          [10.209552  ]],\n",
       "\n",
       "         [[ 0.9840532 ],\n",
       "          [ 0.9840532 ],\n",
       "          [ 0.943051  ],\n",
       "          ...,\n",
       "          [10.16855   ],\n",
       "          [10.16855   ],\n",
       "          [10.16855   ]],\n",
       "\n",
       "         [[ 0.9840532 ],\n",
       "          [ 0.9840532 ],\n",
       "          [ 0.943051  ],\n",
       "          ...,\n",
       "          [10.16855   ],\n",
       "          [10.16855   ],\n",
       "          [10.16855   ]]],\n",
       "\n",
       "\n",
       "        [[[ 1.3530731 ],\n",
       "          [ 1.3940754 ],\n",
       "          [ 1.3530731 ],\n",
       "          ...,\n",
       "          [ 0.08200444],\n",
       "          [ 0.04100222],\n",
       "          [ 0.04100222]],\n",
       "\n",
       "         [[ 1.3530731 ],\n",
       "          [ 1.3530731 ],\n",
       "          [ 1.3530731 ],\n",
       "          ...,\n",
       "          [ 0.08200444],\n",
       "          [ 0.04100222],\n",
       "          [ 0.04100222]],\n",
       "\n",
       "         [[ 1.2710687 ],\n",
       "          [ 1.2710687 ],\n",
       "          [ 1.2710687 ],\n",
       "          ...,\n",
       "          [ 0.08200444],\n",
       "          [ 0.04100222],\n",
       "          [ 0.04100222]],\n",
       "\n",
       "         ...,\n",
       "\n",
       "         [[ 0.9840532 ],\n",
       "          [ 0.9840532 ],\n",
       "          [ 0.943051  ],\n",
       "          ...,\n",
       "          [10.250554  ],\n",
       "          [10.250554  ],\n",
       "          [10.250554  ]],\n",
       "\n",
       "         [[ 0.9840532 ],\n",
       "          [ 0.9840532 ],\n",
       "          [ 0.943051  ],\n",
       "          ...,\n",
       "          [10.16855   ],\n",
       "          [10.16855   ],\n",
       "          [10.16855   ]],\n",
       "\n",
       "         [[ 0.9840532 ],\n",
       "          [ 0.9840532 ],\n",
       "          [ 0.943051  ],\n",
       "          ...,\n",
       "          [10.16855   ],\n",
       "          [10.16855   ],\n",
       "          [10.16855   ]]],\n",
       "\n",
       "\n",
       "        [[[ 1.3940754 ],\n",
       "          [ 1.4350775 ],\n",
       "          [ 1.3940754 ],\n",
       "          ...,\n",
       "          [ 0.04100222],\n",
       "          [ 0.        ],\n",
       "          [ 0.        ]],\n",
       "\n",
       "         [[ 1.3940754 ],\n",
       "          [ 1.3940754 ],\n",
       "          [ 1.3940754 ],\n",
       "          ...,\n",
       "          [ 0.04100222],\n",
       "          [ 0.        ],\n",
       "          [ 0.        ]],\n",
       "\n",
       "         [[ 1.312071  ],\n",
       "          [ 1.312071  ],\n",
       "          [ 1.312071  ],\n",
       "          ...,\n",
       "          [ 0.08200444],\n",
       "          [ 0.04100222],\n",
       "          [ 0.04100222]],\n",
       "\n",
       "         ...,\n",
       "\n",
       "         [[ 0.9840532 ],\n",
       "          [ 0.9840532 ],\n",
       "          [ 0.943051  ],\n",
       "          ...,\n",
       "          [10.16855   ],\n",
       "          [10.209552  ],\n",
       "          [10.209552  ]],\n",
       "\n",
       "         [[ 0.9840532 ],\n",
       "          [ 0.9840532 ],\n",
       "          [ 0.943051  ],\n",
       "          ...,\n",
       "          [10.127547  ],\n",
       "          [10.127547  ],\n",
       "          [10.127547  ]],\n",
       "\n",
       "         [[ 0.9840532 ],\n",
       "          [ 0.9840532 ],\n",
       "          [ 0.943051  ],\n",
       "          ...,\n",
       "          [10.16855   ],\n",
       "          [10.16855   ],\n",
       "          [10.16855   ]]],\n",
       "\n",
       "\n",
       "        ...,\n",
       "\n",
       "\n",
       "        [[[ 1.4760798 ],\n",
       "          [ 1.4760798 ],\n",
       "          [ 1.517082  ],\n",
       "          ...,\n",
       "          [ 0.        ],\n",
       "          [ 0.        ],\n",
       "          [ 0.        ]],\n",
       "\n",
       "         [[ 1.4350775 ],\n",
       "          [ 1.4350775 ],\n",
       "          [ 1.4350775 ],\n",
       "          ...,\n",
       "          [ 0.        ],\n",
       "          [ 0.        ],\n",
       "          [ 0.        ]],\n",
       "\n",
       "         [[ 1.312071  ],\n",
       "          [ 1.312071  ],\n",
       "          [ 1.312071  ],\n",
       "          ...,\n",
       "          [10.455565  ],\n",
       "          [10.455565  ],\n",
       "          [10.455565  ]],\n",
       "\n",
       "         ...,\n",
       "\n",
       "         [[ 0.9840532 ],\n",
       "          [ 0.9840532 ],\n",
       "          [ 0.9840532 ],\n",
       "          ...,\n",
       "          [10.209552  ],\n",
       "          [10.209552  ],\n",
       "          [10.209552  ]],\n",
       "\n",
       "         [[ 0.9840532 ],\n",
       "          [ 0.9840532 ],\n",
       "          [ 0.9840532 ],\n",
       "          ...,\n",
       "          [10.209552  ],\n",
       "          [10.209552  ],\n",
       "          [10.209552  ]],\n",
       "\n",
       "         [[ 0.9840532 ],\n",
       "          [ 0.9840532 ],\n",
       "          [ 0.943051  ],\n",
       "          ...,\n",
       "          [10.209552  ],\n",
       "          [10.209552  ],\n",
       "          [10.209552  ]]],\n",
       "\n",
       "\n",
       "        [[[ 1.4760798 ],\n",
       "          [ 1.4760798 ],\n",
       "          [ 1.517082  ],\n",
       "          ...,\n",
       "          [10.455565  ],\n",
       "          [10.455565  ],\n",
       "          [10.455565  ]],\n",
       "\n",
       "         [[ 1.4350775 ],\n",
       "          [ 1.4350775 ],\n",
       "          [ 1.4760798 ],\n",
       "          ...,\n",
       "          [10.455565  ],\n",
       "          [10.455565  ],\n",
       "          [10.455565  ]],\n",
       "\n",
       "         [[ 1.3530731 ],\n",
       "          [ 1.3530731 ],\n",
       "          [ 1.312071  ],\n",
       "          ...,\n",
       "          [10.455565  ],\n",
       "          [10.455565  ],\n",
       "          [10.455565  ]],\n",
       "\n",
       "         ...,\n",
       "\n",
       "         [[ 0.943051  ],\n",
       "          [ 0.943051  ],\n",
       "          [ 0.943051  ],\n",
       "          ...,\n",
       "          [10.16855   ],\n",
       "          [10.16855   ],\n",
       "          [10.16855   ]],\n",
       "\n",
       "         [[ 0.943051  ],\n",
       "          [ 0.943051  ],\n",
       "          [ 0.943051  ],\n",
       "          ...,\n",
       "          [10.16855   ],\n",
       "          [10.16855   ],\n",
       "          [10.16855   ]],\n",
       "\n",
       "         [[ 0.943051  ],\n",
       "          [ 0.943051  ],\n",
       "          [ 0.90204877],\n",
       "          ...,\n",
       "          [10.16855   ],\n",
       "          [10.16855   ],\n",
       "          [10.16855   ]]],\n",
       "\n",
       "\n",
       "        [[[ 1.4350775 ],\n",
       "          [ 1.4350775 ],\n",
       "          [ 1.4760798 ],\n",
       "          ...,\n",
       "          [10.455565  ],\n",
       "          [10.455565  ],\n",
       "          [10.455565  ]],\n",
       "\n",
       "         [[ 1.3940754 ],\n",
       "          [ 1.3940754 ],\n",
       "          [ 1.3940754 ],\n",
       "          ...,\n",
       "          [10.455565  ],\n",
       "          [10.455565  ],\n",
       "          [10.455565  ]],\n",
       "\n",
       "         [[ 1.312071  ],\n",
       "          [ 1.312071  ],\n",
       "          [ 1.2710687 ],\n",
       "          ...,\n",
       "          [10.455565  ],\n",
       "          [10.455565  ],\n",
       "          [10.455565  ]],\n",
       "\n",
       "         ...,\n",
       "\n",
       "         [[ 1.0250554 ],\n",
       "          [ 1.0250554 ],\n",
       "          [ 0.9840532 ],\n",
       "          ...,\n",
       "          [10.16855   ],\n",
       "          [10.16855   ],\n",
       "          [10.16855   ]],\n",
       "\n",
       "         [[ 0.943051  ],\n",
       "          [ 0.943051  ],\n",
       "          [ 0.943051  ],\n",
       "          ...,\n",
       "          [10.16855   ],\n",
       "          [10.16855   ],\n",
       "          [10.16855   ]],\n",
       "\n",
       "         [[ 0.943051  ],\n",
       "          [ 0.943051  ],\n",
       "          [ 0.943051  ],\n",
       "          ...,\n",
       "          [10.16855   ],\n",
       "          [10.16855   ],\n",
       "          [10.16855   ]]]]], dtype=float32)"
      ]
     },
     "execution_count": 29,
     "metadata": {},
     "output_type": "execute_result"
    }
   ],
   "source": [
    "val = sample.next(); val[0]"
   ]
  },
  {
   "cell_type": "code",
   "execution_count": 30,
   "id": "acf5eb4f-a0da-4a9a-bf24-af13e9cc2fbe",
   "metadata": {
    "tags": []
   },
   "outputs": [],
   "source": [
    "# Extract frames and prepare for GIF creation\n",
    "frames = []\n",
    "for frame in val[0][0]:\n",
    "    # Remove the last dimension to get shape (46, 140)\n",
    "    frame = frame.squeeze(-1)\n",
    "    \n",
    "    # If frame is float32, scale it to 0-255 and convert to uint8\n",
    "    if frame.dtype == np.float32:\n",
    "        frame = (frame * 255).clip(0, 255).astype(np.uint8)\n",
    "    frames.append(frame)\n",
    "\n",
    "# Save the frames as a GIF\n",
    "imageio.mimsave('/Users/raman/Desktop/Deep Learning/lipread_tensorflow-main/animation.gif', frames, fps=10)"
   ]
  },
  {
   "cell_type": "code",
   "execution_count": 31,
   "id": "c33a87a2-d5e0-4ec9-b174-73ebf41bf03a",
   "metadata": {
    "tags": []
   },
   "outputs": [
    {
     "data": {
      "text/plain": [
       "<matplotlib.image.AxesImage at 0x17a48d2b0>"
      ]
     },
     "execution_count": 31,
     "metadata": {},
     "output_type": "execute_result"
    },
    {
     "data": {
      "image/png": "[encoded data removed]",
      "text/plain": [
       "<Figure size 640x480 with 1 Axes>"
      ]
     },
     "metadata": {},
     "output_type": "display_data"
    }
   ],
   "source": [
    "# 0:videos, 0: 1st video out of the batch,  0: return the first frame in the video \n",
    "plt.imshow(val[0][0][35])"
   ]
  },
  {
   "cell_type": "code",
   "execution_count": 32,
   "id": "84593332-133c-4205-b7a6-8e235d5e2b3b",
   "metadata": {
    "tags": []
   },
   "outputs": [
    {
     "data": {
      "text/plain": [
       "<tf.Tensor: shape=(), dtype=string, numpy=b'set white by v five again'>"
      ]
     },
     "execution_count": 32,
     "metadata": {},
     "output_type": "execute_result"
    }
   ],
   "source": [
    "tf.strings.reduce_join([num_to_char(word) for word in val[1][0]])"
   ]
  },
  {
   "cell_type": "markdown",
   "id": "0f47733c-83bc-465c-b118-b198b492ad37",
   "metadata": {
    "tags": []
   },
   "source": [
    "# 3. Design the Deep Neural Network"
   ]
  },
  {
   "cell_type": "code",
   "execution_count": 33,
   "id": "d8e9a497-191b-4842-afbd-26f5e13c43ba",
   "metadata": {
    "tags": []
   },
   "outputs": [],
   "source": [
    "from tensorflow.keras.models import Sequential \n",
    "from tensorflow.keras.layers import Conv3D, LSTM, Dense, Dropout, Bidirectional, MaxPool3D, Activation, Reshape, SpatialDropout3D, BatchNormalization, TimeDistributed, Flatten\n",
    "from tensorflow.keras.optimizers import Adam\n",
    "from tensorflow.keras.callbacks import ModelCheckpoint, LearningRateScheduler"
   ]
  },
  {
   "cell_type": "code",
   "execution_count": 34,
   "id": "3f753ed2-70b9-4236-8c1c-08ca065dc8bf",
   "metadata": {},
   "outputs": [
    {
     "data": {
      "text/plain": [
       "(75, 46, 140, 1)"
      ]
     },
     "execution_count": 34,
     "metadata": {},
     "output_type": "execute_result"
    }
   ],
   "source": [
    "data.as_numpy_iterator().next()[0][0].shape"
   ]
  },
  {
   "cell_type": "code",
   "execution_count": 35,
   "id": "f9171056-a352-491a-9ed9-92b28ced268e",
   "metadata": {
    "tags": []
   },
   "outputs": [
    {
     "name": "stderr",
     "output_type": "stream",
     "text": [
      "/Users/raman/Desktop/Deep Learning/lipread_tensorflow-main/env/lib/python3.9/site-packages/keras/src/layers/convolutional/base_conv.py:107: UserWarning: Do not pass an `input_shape`/`input_dim` argument to a layer. When using Sequential models, prefer using an `Input(shape)` object as the first layer in the model instead.\n",
      "  super().__init__(activity_regularizer=activity_regularizer, **kwargs)\n"
     ]
    }
   ],
   "source": [
    "model = Sequential()\n",
    "model.add(Conv3D(128, 3, input_shape=(75,46,140,1), padding='same'))\n",
    "model.add(Activation('relu'))\n",
    "model.add(MaxPool3D((1,2,2)))\n",
    "\n",
    "model.add(Conv3D(256, 3, padding='same'))\n",
    "model.add(Activation('relu'))\n",
    "model.add(MaxPool3D((1,2,2)))\n",
    "\n",
    "model.add(Conv3D(75, 3, padding='same'))\n",
    "model.add(Activation('relu'))\n",
    "model.add(MaxPool3D((1,2,2)))\n",
    "\n",
    "model.add(TimeDistributed(Flatten()))\n",
    "\n",
    "model.add(Bidirectional(LSTM(128, kernel_initializer='Orthogonal', return_sequences=True)))\n",
    "model.add(Dropout(.5))\n",
    "\n",
    "model.add(Bidirectional(LSTM(128, kernel_initializer='Orthogonal', return_sequences=True)))\n",
    "model.add(Dropout(.5))\n",
    "\n",
    "model.add(Dense(char_to_num.vocabulary_size()+1, kernel_initializer='he_normal', activation='softmax'))"
   ]
  },
  {
   "cell_type": "code",
   "execution_count": 36,
   "id": "78851825-2bcd-42a9-b7f2-28bb5a6bf43a",
   "metadata": {
    "collapsed": true,
    "jupyter": {
     "outputs_hidden": true
    },
    "tags": []
   },
   "outputs": [
    {
     "data": {
      "text/html": [
       "<pre style=\"white-space:pre;overflow-x:auto;line-height:normal;font-family:Menlo,'DejaVu Sans Mono',consolas,'Courier New',monospace\"><span style=\"font-weight: bold\">Model: \"sequential\"</span>\n",
       "</pre>\n"
      ],
      "text/plain": [
       "\u001b[1mModel: \"sequential\"\u001b[0m\n"
      ]
     },
     "metadata": {},
     "output_type": "display_data"
    },
    {
     "data": {
      "text/html": [
       "<pre style=\"white-space:pre;overflow-x:auto;line-height:normal;font-family:Menlo,'DejaVu Sans Mono',consolas,'Courier New',monospace\">┏━━━━━━━━━━━━━━━━━━━━━━━━━━━━━━━━━┳━━━━━━━━━━━━━━━━━━━━━━━━┳━━━━━━━━━━━━━━━┓\n",
       "┃<span style=\"font-weight: bold\"> Layer (type)                    </span>┃<span style=\"font-weight: bold\"> Output Shape           </span>┃<span style=\"font-weight: bold\">       Param # </span>┃\n",
       "┡━━━━━━━━━━━━━━━━━━━━━━━━━━━━━━━━━╇━━━━━━━━━━━━━━━━━━━━━━━━╇━━━━━━━━━━━━━━━┩\n",
       "│ conv3d (<span style=\"color: #0087ff; text-decoration-color: #0087ff\">Conv3D</span>)                 │ (<span style=\"color: #00d7ff; text-decoration-color: #00d7ff\">None</span>, <span style=\"color: #00af00; text-decoration-color: #00af00\">75</span>, <span style=\"color: #00af00; text-decoration-color: #00af00\">46</span>, <span style=\"color: #00af00; text-decoration-color: #00af00\">140</span>,    │         <span style=\"color: #00af00; text-decoration-color: #00af00\">3,584</span> │\n",
       "│                                 │ <span style=\"color: #00af00; text-decoration-color: #00af00\">128</span>)                   │               │\n",
       "├─────────────────────────────────┼────────────────────────┼───────────────┤\n",
       "│ activation (<span style=\"color: #0087ff; text-decoration-color: #0087ff\">Activation</span>)         │ (<span style=\"color: #00d7ff; text-decoration-color: #00d7ff\">None</span>, <span style=\"color: #00af00; text-decoration-color: #00af00\">75</span>, <span style=\"color: #00af00; text-decoration-color: #00af00\">46</span>, <span style=\"color: #00af00; text-decoration-color: #00af00\">140</span>,    │             <span style=\"color: #00af00; text-decoration-color: #00af00\">0</span> │\n",
       "│                                 │ <span style=\"color: #00af00; text-decoration-color: #00af00\">128</span>)                   │               │\n",
       "├─────────────────────────────────┼────────────────────────┼───────────────┤\n",
       "│ max_pooling3d (<span style=\"color: #0087ff; text-decoration-color: #0087ff\">MaxPooling3D</span>)    │ (<span style=\"color: #00d7ff; text-decoration-color: #00d7ff\">None</span>, <span style=\"color: #00af00; text-decoration-color: #00af00\">75</span>, <span style=\"color: #00af00; text-decoration-color: #00af00\">23</span>, <span style=\"color: #00af00; text-decoration-color: #00af00\">70</span>,     │             <span style=\"color: #00af00; text-decoration-color: #00af00\">0</span> │\n",
       "│                                 │ <span style=\"color: #00af00; text-decoration-color: #00af00\">128</span>)                   │               │\n",
       "├─────────────────────────────────┼────────────────────────┼───────────────┤\n",
       "│ conv3d_1 (<span style=\"color: #0087ff; text-decoration-color: #0087ff\">Conv3D</span>)               │ (<span style=\"color: #00d7ff; text-decoration-color: #00d7ff\">None</span>, <span style=\"color: #00af00; text-decoration-color: #00af00\">75</span>, <span style=\"color: #00af00; text-decoration-color: #00af00\">23</span>, <span style=\"color: #00af00; text-decoration-color: #00af00\">70</span>,     │       <span style=\"color: #00af00; text-decoration-color: #00af00\">884,992</span> │\n",
       "│                                 │ <span style=\"color: #00af00; text-decoration-color: #00af00\">256</span>)                   │               │\n",
       "├─────────────────────────────────┼────────────────────────┼───────────────┤\n",
       "│ activation_1 (<span style=\"color: #0087ff; text-decoration-color: #0087ff\">Activation</span>)       │ (<span style=\"color: #00d7ff; text-decoration-color: #00d7ff\">None</span>, <span style=\"color: #00af00; text-decoration-color: #00af00\">75</span>, <span style=\"color: #00af00; text-decoration-color: #00af00\">23</span>, <span style=\"color: #00af00; text-decoration-color: #00af00\">70</span>,     │             <span style=\"color: #00af00; text-decoration-color: #00af00\">0</span> │\n",
       "│                                 │ <span style=\"color: #00af00; text-decoration-color: #00af00\">256</span>)                   │               │\n",
       "├─────────────────────────────────┼────────────────────────┼───────────────┤\n",
       "│ max_pooling3d_1 (<span style=\"color: #0087ff; text-decoration-color: #0087ff\">MaxPooling3D</span>)  │ (<span style=\"color: #00d7ff; text-decoration-color: #00d7ff\">None</span>, <span style=\"color: #00af00; text-decoration-color: #00af00\">75</span>, <span style=\"color: #00af00; text-decoration-color: #00af00\">11</span>, <span style=\"color: #00af00; text-decoration-color: #00af00\">35</span>,     │             <span style=\"color: #00af00; text-decoration-color: #00af00\">0</span> │\n",
       "│                                 │ <span style=\"color: #00af00; text-decoration-color: #00af00\">256</span>)                   │               │\n",
       "├─────────────────────────────────┼────────────────────────┼───────────────┤\n",
       "│ conv3d_2 (<span style=\"color: #0087ff; text-decoration-color: #0087ff\">Conv3D</span>)               │ (<span style=\"color: #00d7ff; text-decoration-color: #00d7ff\">None</span>, <span style=\"color: #00af00; text-decoration-color: #00af00\">75</span>, <span style=\"color: #00af00; text-decoration-color: #00af00\">11</span>, <span style=\"color: #00af00; text-decoration-color: #00af00\">35</span>, <span style=\"color: #00af00; text-decoration-color: #00af00\">75</span>) │       <span style=\"color: #00af00; text-decoration-color: #00af00\">518,475</span> │\n",
       "├─────────────────────────────────┼────────────────────────┼───────────────┤\n",
       "│ activation_2 (<span style=\"color: #0087ff; text-decoration-color: #0087ff\">Activation</span>)       │ (<span style=\"color: #00d7ff; text-decoration-color: #00d7ff\">None</span>, <span style=\"color: #00af00; text-decoration-color: #00af00\">75</span>, <span style=\"color: #00af00; text-decoration-color: #00af00\">11</span>, <span style=\"color: #00af00; text-decoration-color: #00af00\">35</span>, <span style=\"color: #00af00; text-decoration-color: #00af00\">75</span>) │             <span style=\"color: #00af00; text-decoration-color: #00af00\">0</span> │\n",
       "├─────────────────────────────────┼────────────────────────┼───────────────┤\n",
       "│ max_pooling3d_2 (<span style=\"color: #0087ff; text-decoration-color: #0087ff\">MaxPooling3D</span>)  │ (<span style=\"color: #00d7ff; text-decoration-color: #00d7ff\">None</span>, <span style=\"color: #00af00; text-decoration-color: #00af00\">75</span>, <span style=\"color: #00af00; text-decoration-color: #00af00\">5</span>, <span style=\"color: #00af00; text-decoration-color: #00af00\">17</span>, <span style=\"color: #00af00; text-decoration-color: #00af00\">75</span>)  │             <span style=\"color: #00af00; text-decoration-color: #00af00\">0</span> │\n",
       "├─────────────────────────────────┼────────────────────────┼───────────────┤\n",
       "│ time_distributed                │ (<span style=\"color: #00d7ff; text-decoration-color: #00d7ff\">None</span>, <span style=\"color: #00af00; text-decoration-color: #00af00\">75</span>, <span style=\"color: #00af00; text-decoration-color: #00af00\">6375</span>)       │             <span style=\"color: #00af00; text-decoration-color: #00af00\">0</span> │\n",
       "│ (<span style=\"color: #0087ff; text-decoration-color: #0087ff\">TimeDistributed</span>)               │                        │               │\n",
       "├─────────────────────────────────┼────────────────────────┼───────────────┤\n",
       "│ bidirectional (<span style=\"color: #0087ff; text-decoration-color: #0087ff\">Bidirectional</span>)   │ (<span style=\"color: #00d7ff; text-decoration-color: #00d7ff\">None</span>, <span style=\"color: #00af00; text-decoration-color: #00af00\">75</span>, <span style=\"color: #00af00; text-decoration-color: #00af00\">256</span>)        │     <span style=\"color: #00af00; text-decoration-color: #00af00\">6,660,096</span> │\n",
       "├─────────────────────────────────┼────────────────────────┼───────────────┤\n",
       "│ dropout (<span style=\"color: #0087ff; text-decoration-color: #0087ff\">Dropout</span>)               │ (<span style=\"color: #00d7ff; text-decoration-color: #00d7ff\">None</span>, <span style=\"color: #00af00; text-decoration-color: #00af00\">75</span>, <span style=\"color: #00af00; text-decoration-color: #00af00\">256</span>)        │             <span style=\"color: #00af00; text-decoration-color: #00af00\">0</span> │\n",
       "├─────────────────────────────────┼────────────────────────┼───────────────┤\n",
       "│ bidirectional_1 (<span style=\"color: #0087ff; text-decoration-color: #0087ff\">Bidirectional</span>) │ (<span style=\"color: #00d7ff; text-decoration-color: #00d7ff\">None</span>, <span style=\"color: #00af00; text-decoration-color: #00af00\">75</span>, <span style=\"color: #00af00; text-decoration-color: #00af00\">256</span>)        │       <span style=\"color: #00af00; text-decoration-color: #00af00\">394,240</span> │\n",
       "├─────────────────────────────────┼────────────────────────┼───────────────┤\n",
       "│ dropout_1 (<span style=\"color: #0087ff; text-decoration-color: #0087ff\">Dropout</span>)             │ (<span style=\"color: #00d7ff; text-decoration-color: #00d7ff\">None</span>, <span style=\"color: #00af00; text-decoration-color: #00af00\">75</span>, <span style=\"color: #00af00; text-decoration-color: #00af00\">256</span>)        │             <span style=\"color: #00af00; text-decoration-color: #00af00\">0</span> │\n",
       "├─────────────────────────────────┼────────────────────────┼───────────────┤\n",
       "│ dense (<span style=\"color: #0087ff; text-decoration-color: #0087ff\">Dense</span>)                   │ (<span style=\"color: #00d7ff; text-decoration-color: #00d7ff\">None</span>, <span style=\"color: #00af00; text-decoration-color: #00af00\">75</span>, <span style=\"color: #00af00; text-decoration-color: #00af00\">41</span>)         │        <span style=\"color: #00af00; text-decoration-color: #00af00\">10,537</span> │\n",
       "└─────────────────────────────────┴────────────────────────┴───────────────┘\n",
       "</pre>\n"
      ],
      "text/plain": [
       "┏━━━━━━━━━━━━━━━━━━━━━━━━━━━━━━━━━┳━━━━━━━━━━━━━━━━━━━━━━━━┳━━━━━━━━━━━━━━━┓\n",
       "┃\u001b[1m \u001b[0m\u001b[1mLayer (type)                   \u001b[0m\u001b[1m \u001b[0m┃\u001b[1m \u001b[0m\u001b[1mOutput Shape          \u001b[0m\u001b[1m \u001b[0m┃\u001b[1m \u001b[0m\u001b[1m      Param #\u001b[0m\u001b[1m \u001b[0m┃\n",
       "┡━━━━━━━━━━━━━━━━━━━━━━━━━━━━━━━━━╇━━━━━━━━━━━━━━━━━━━━━━━━╇━━━━━━━━━━━━━━━┩\n",
       "│ conv3d (\u001b[38;5;33mConv3D\u001b[0m)                 │ (\u001b[38;5;45mNone\u001b[0m, \u001b[38;5;34m75\u001b[0m, \u001b[38;5;34m46\u001b[0m, \u001b[38;5;34m140\u001b[0m,    │         \u001b[38;5;34m3,584\u001b[0m │\n",
       "│                                 │ \u001b[38;5;34m128\u001b[0m)                   │               │\n",
       "├─────────────────────────────────┼────────────────────────┼───────────────┤\n",
       "│ activation (\u001b[38;5;33mActivation\u001b[0m)         │ (\u001b[38;5;45mNone\u001b[0m, \u001b[38;5;34m75\u001b[0m, \u001b[38;5;34m46\u001b[0m, \u001b[38;5;34m140\u001b[0m,    │             \u001b[38;5;34m0\u001b[0m │\n",
       "│                                 │ \u001b[38;5;34m128\u001b[0m)                   │               │\n",
       "├─────────────────────────────────┼────────────────────────┼───────────────┤\n",
       "│ max_pooling3d (\u001b[38;5;33mMaxPooling3D\u001b[0m)    │ (\u001b[38;5;45mNone\u001b[0m, \u001b[38;5;34m75\u001b[0m, \u001b[38;5;34m23\u001b[0m, \u001b[38;5;34m70\u001b[0m,     │             \u001b[38;5;34m0\u001b[0m │\n",
       "│                                 │ \u001b[38;5;34m128\u001b[0m)                   │               │\n",
       "├─────────────────────────────────┼────────────────────────┼───────────────┤\n",
       "│ conv3d_1 (\u001b[38;5;33mConv3D\u001b[0m)               │ (\u001b[38;5;45mNone\u001b[0m, \u001b[38;5;34m75\u001b[0m, \u001b[38;5;34m23\u001b[0m, \u001b[38;5;34m70\u001b[0m,     │       \u001b[38;5;34m884,992\u001b[0m │\n",
       "│                                 │ \u001b[38;5;34m256\u001b[0m)                   │               │\n",
       "├─────────────────────────────────┼────────────────────────┼───────────────┤\n",
       "│ activation_1 (\u001b[38;5;33mActivation\u001b[0m)       │ (\u001b[38;5;45mNone\u001b[0m, \u001b[38;5;34m75\u001b[0m, \u001b[38;5;34m23\u001b[0m, \u001b[38;5;34m70\u001b[0m,     │             \u001b[38;5;34m0\u001b[0m │\n",
       "│                                 │ \u001b[38;5;34m256\u001b[0m)                   │               │\n",
       "├─────────────────────────────────┼────────────────────────┼───────────────┤\n",
       "│ max_pooling3d_1 (\u001b[38;5;33mMaxPooling3D\u001b[0m)  │ (\u001b[38;5;45mNone\u001b[0m, \u001b[38;5;34m75\u001b[0m, \u001b[38;5;34m11\u001b[0m, \u001b[38;5;34m35\u001b[0m,     │             \u001b[38;5;34m0\u001b[0m │\n",
       "│                                 │ \u001b[38;5;34m256\u001b[0m)                   │               │\n",
       "├─────────────────────────────────┼────────────────────────┼───────────────┤\n",
       "│ conv3d_2 (\u001b[38;5;33mConv3D\u001b[0m)               │ (\u001b[38;5;45mNone\u001b[0m, \u001b[38;5;34m75\u001b[0m, \u001b[38;5;34m11\u001b[0m, \u001b[38;5;34m35\u001b[0m, \u001b[38;5;34m75\u001b[0m) │       \u001b[38;5;34m518,475\u001b[0m │\n",
       "├─────────────────────────────────┼────────────────────────┼───────────────┤\n",
       "│ activation_2 (\u001b[38;5;33mActivation\u001b[0m)       │ (\u001b[38;5;45mNone\u001b[0m, \u001b[38;5;34m75\u001b[0m, \u001b[38;5;34m11\u001b[0m, \u001b[38;5;34m35\u001b[0m, \u001b[38;5;34m75\u001b[0m) │             \u001b[38;5;34m0\u001b[0m │\n",
       "├─────────────────────────────────┼────────────────────────┼───────────────┤\n",
       "│ max_pooling3d_2 (\u001b[38;5;33mMaxPooling3D\u001b[0m)  │ (\u001b[38;5;45mNone\u001b[0m, \u001b[38;5;34m75\u001b[0m, \u001b[38;5;34m5\u001b[0m, \u001b[38;5;34m17\u001b[0m, \u001b[38;5;34m75\u001b[0m)  │             \u001b[38;5;34m0\u001b[0m │\n",
       "├─────────────────────────────────┼────────────────────────┼───────────────┤\n",
       "│ time_distributed                │ (\u001b[38;5;45mNone\u001b[0m, \u001b[38;5;34m75\u001b[0m, \u001b[38;5;34m6375\u001b[0m)       │             \u001b[38;5;34m0\u001b[0m │\n",
       "│ (\u001b[38;5;33mTimeDistributed\u001b[0m)               │                        │               │\n",
       "├─────────────────────────────────┼────────────────────────┼───────────────┤\n",
       "│ bidirectional (\u001b[38;5;33mBidirectional\u001b[0m)   │ (\u001b[38;5;45mNone\u001b[0m, \u001b[38;5;34m75\u001b[0m, \u001b[38;5;34m256\u001b[0m)        │     \u001b[38;5;34m6,660,096\u001b[0m │\n",
       "├─────────────────────────────────┼────────────────────────┼───────────────┤\n",
       "│ dropout (\u001b[38;5;33mDropout\u001b[0m)               │ (\u001b[38;5;45mNone\u001b[0m, \u001b[38;5;34m75\u001b[0m, \u001b[38;5;34m256\u001b[0m)        │             \u001b[38;5;34m0\u001b[0m │\n",
       "├─────────────────────────────────┼────────────────────────┼───────────────┤\n",
       "│ bidirectional_1 (\u001b[38;5;33mBidirectional\u001b[0m) │ (\u001b[38;5;45mNone\u001b[0m, \u001b[38;5;34m75\u001b[0m, \u001b[38;5;34m256\u001b[0m)        │       \u001b[38;5;34m394,240\u001b[0m │\n",
       "├─────────────────────────────────┼────────────────────────┼───────────────┤\n",
       "│ dropout_1 (\u001b[38;5;33mDropout\u001b[0m)             │ (\u001b[38;5;45mNone\u001b[0m, \u001b[38;5;34m75\u001b[0m, \u001b[38;5;34m256\u001b[0m)        │             \u001b[38;5;34m0\u001b[0m │\n",
       "├─────────────────────────────────┼────────────────────────┼───────────────┤\n",
       "│ dense (\u001b[38;5;33mDense\u001b[0m)                   │ (\u001b[38;5;45mNone\u001b[0m, \u001b[38;5;34m75\u001b[0m, \u001b[38;5;34m41\u001b[0m)         │        \u001b[38;5;34m10,537\u001b[0m │\n",
       "└─────────────────────────────────┴────────────────────────┴───────────────┘\n"
      ]
     },
     "metadata": {},
     "output_type": "display_data"
    },
    {
     "data": {
      "text/html": [
       "<pre style=\"white-space:pre;overflow-x:auto;line-height:normal;font-family:Menlo,'DejaVu Sans Mono',consolas,'Courier New',monospace\"><span style=\"font-weight: bold\"> Total params: </span><span style=\"color: #00af00; text-decoration-color: #00af00\">8,471,924</span> (32.32 MB)\n",
       "</pre>\n"
      ],
      "text/plain": [
       "\u001b[1m Total params: \u001b[0m\u001b[38;5;34m8,471,924\u001b[0m (32.32 MB)\n"
      ]
     },
     "metadata": {},
     "output_type": "display_data"
    },
    {
     "data": {
      "text/html": [
       "<pre style=\"white-space:pre;overflow-x:auto;line-height:normal;font-family:Menlo,'DejaVu Sans Mono',consolas,'Courier New',monospace\"><span style=\"font-weight: bold\"> Trainable params: </span><span style=\"color: #00af00; text-decoration-color: #00af00\">8,471,924</span> (32.32 MB)\n",
       "</pre>\n"
      ],
      "text/plain": [
       "\u001b[1m Trainable params: \u001b[0m\u001b[38;5;34m8,471,924\u001b[0m (32.32 MB)\n"
      ]
     },
     "metadata": {},
     "output_type": "display_data"
    },
    {
     "data": {
      "text/html": [
       "<pre style=\"white-space:pre;overflow-x:auto;line-height:normal;font-family:Menlo,'DejaVu Sans Mono',consolas,'Courier New',monospace\"><span style=\"font-weight: bold\"> Non-trainable params: </span><span style=\"color: #00af00; text-decoration-color: #00af00\">0</span> (0.00 B)\n",
       "</pre>\n"
      ],
      "text/plain": [
       "\u001b[1m Non-trainable params: \u001b[0m\u001b[38;5;34m0\u001b[0m (0.00 B)\n"
      ]
     },
     "metadata": {},
     "output_type": "display_data"
    }
   ],
   "source": [
    "model.summary()"
   ]
  },
  {
   "cell_type": "code",
   "execution_count": 37,
   "id": "f4b4798c-a65a-4c47-9e2a-3b09dc98d320",
   "metadata": {},
   "outputs": [
    {
     "data": {
      "text/plain": [
       "6375"
      ]
     },
     "execution_count": 37,
     "metadata": {},
     "output_type": "execute_result"
    }
   ],
   "source": [
    "5*17*75"
   ]
  },
  {
   "cell_type": "code",
   "execution_count": 38,
   "id": "e5c2eae0-c359-41a4-97a0-75c44dccb7d1",
   "metadata": {
    "tags": []
   },
   "outputs": [
    {
     "name": "stdout",
     "output_type": "stream",
     "text": [
      "\u001b[1m1/1\u001b[0m \u001b[32m━━━━━━━━━━━━━━━━━━━━\u001b[0m\u001b[37m\u001b[0m \u001b[1m2s\u001b[0m 2s/step\n"
     ]
    }
   ],
   "source": [
    "yhat = model.predict(val[0])"
   ]
  },
  {
   "cell_type": "code",
   "execution_count": 39,
   "id": "ffdc7319-0d69-4f7e-a6d4-ce72deb81c0b",
   "metadata": {},
   "outputs": [
    {
     "data": {
      "text/plain": [
       "<tf.Tensor: shape=(), dtype=string, numpy=b'qqpppppppppppppppppppppppppppppppppppppppppppppppppppppppppppppppppppppp222'>"
      ]
     },
     "execution_count": 39,
     "metadata": {},
     "output_type": "execute_result"
    }
   ],
   "source": [
    "tf.strings.reduce_join([num_to_char(x) for x in tf.argmax(yhat[0],axis=1)])"
   ]
  },
  {
   "cell_type": "code",
   "execution_count": 40,
   "id": "6ed47531-8317-4255-9a12-b757642258e6",
   "metadata": {
    "tags": []
   },
   "outputs": [
    {
     "data": {
      "text/plain": [
       "<tf.Tensor: shape=(), dtype=string, numpy=b'qqpppppppppppppppppppppppppppppppppppppppppppppppppppppppppppppppppppppp222'>"
      ]
     },
     "execution_count": 40,
     "metadata": {},
     "output_type": "execute_result"
    }
   ],
   "source": [
    "tf.strings.reduce_join([num_to_char(tf.argmax(x)) for x in yhat[0]])"
   ]
  },
  {
   "cell_type": "code",
   "execution_count": 41,
   "id": "7c37b9b9-5298-4038-9c33-5031d1b457f0",
   "metadata": {
    "tags": []
   },
   "outputs": [
    {
     "data": {
      "text/plain": [
       "(None, 75, 46, 140, 1)"
      ]
     },
     "execution_count": 41,
     "metadata": {},
     "output_type": "execute_result"
    }
   ],
   "source": [
    "model.input_shape"
   ]
  },
  {
   "cell_type": "code",
   "execution_count": 42,
   "id": "98b316a4-5322-4782-8e36-4b3c1a696d85",
   "metadata": {
    "tags": []
   },
   "outputs": [
    {
     "data": {
      "text/plain": [
       "(None, 75, 41)"
      ]
     },
     "execution_count": 42,
     "metadata": {},
     "output_type": "execute_result"
    }
   ],
   "source": [
    "model.output_shape"
   ]
  },
  {
   "cell_type": "markdown",
   "id": "2ec02176-5c26-46c3-aff7-8352e6563c7d",
   "metadata": {
    "tags": []
   },
   "source": [
    "# 4. Setup Training Options and Train"
   ]
  },
  {
   "cell_type": "code",
   "execution_count": 43,
   "id": "ab015fd0-7fb4-4d5d-9fa2-30a05dbd515a",
   "metadata": {
    "tags": []
   },
   "outputs": [],
   "source": [
    "def scheduler(epoch, lr):\n",
    "    if epoch < 30:\n",
    "        return lr\n",
    "    else:\n",
    "        return lr * tf.math.exp(-0.1)"
   ]
  },
  {
   "cell_type": "code",
   "execution_count": 44,
   "id": "c564d5c9-db54-4e88-b311-9aeab7fb3e69",
   "metadata": {
    "tags": []
   },
   "outputs": [],
   "source": [
    "def CTCLoss(y_true, y_pred):\n",
    "    batch_len = tf.cast(tf.shape(y_true)[0], dtype=\"int64\")\n",
    "    input_length = tf.cast(tf.shape(y_pred)[1], dtype=\"int64\")\n",
    "    label_length = tf.cast(tf.shape(y_true)[1], dtype=\"int64\")\n",
    "\n",
    "    input_length = input_length * tf.ones(shape=(batch_len, 1), dtype=\"int64\")\n",
    "    label_length = label_length * tf.ones(shape=(batch_len, 1), dtype=\"int64\")\n",
    "\n",
    "    loss = tf.keras.backend.ctc_batch_cost(y_true, y_pred, input_length, label_length)\n",
    "    return loss"
   ]
  },
  {
   "cell_type": "code",
   "execution_count": 45,
   "id": "a26dc3fc-a19c-4378-bd8c-e2b597a1d15c",
   "metadata": {
    "tags": []
   },
   "outputs": [],
   "source": [
    "class ProduceExample(tf.keras.callbacks.Callback): \n",
    "    def __init__(self, dataset) -> None: \n",
    "        self.dataset = dataset.as_numpy_iterator()\n",
    "    \n",
    "    def on_epoch_end(self, epoch, logs=None) -> None:\n",
    "        data = self.dataset.next()\n",
    "        yhat = self.model.predict(data[0])\n",
    "        decoded = tf.keras.backend.ctc_decode(yhat, [75,75], greedy=False)[0][0].numpy()\n",
    "        for x in range(len(yhat)):           \n",
    "            print('Original:', tf.strings.reduce_join(num_to_char(data[1][x])).numpy().decode('utf-8'))\n",
    "            print('Prediction:', tf.strings.reduce_join(num_to_char(decoded[x])).numpy().decode('utf-8'))\n",
    "            print('~'*100)"
   ]
  },
  {
   "cell_type": "code",
   "execution_count": 46,
   "id": "04be90d8-2482-46f9-b513-d5f4f8001c7e",
   "metadata": {
    "tags": []
   },
   "outputs": [],
   "source": [
    "model.compile(optimizer=Adam(learning_rate=0.0001), loss=CTCLoss)"
   ]
  },
  {
   "cell_type": "code",
   "execution_count": 47,
   "id": "eab49367-3f1e-4464-ae76-dbd07549d97e",
   "metadata": {
    "tags": []
   },
   "outputs": [],
   "source": [
    "checkpoint_callback = ModelCheckpoint(os.path.join('models','checkpoint1.weights.h5'), monitor='loss', save_weights_only=True) "
   ]
  },
  {
   "cell_type": "code",
   "execution_count": 48,
   "id": "e085a632-d464-46ef-8777-959cad4adb2c",
   "metadata": {
    "tags": []
   },
   "outputs": [],
   "source": [
    "schedule_callback = LearningRateScheduler(scheduler)"
   ]
  },
  {
   "cell_type": "code",
   "execution_count": 49,
   "id": "48eca991-90ab-4592-8a79-b50e9ca015b6",
   "metadata": {
    "tags": []
   },
   "outputs": [],
   "source": [
    "example_callback = ProduceExample(test)"
   ]
  },
  {
   "cell_type": "code",
   "execution_count": 50,
   "id": "089c225b",
   "metadata": {},
   "outputs": [
    {
     "data": {
      "text/plain": [
       "<_TakeDataset element_spec=(TensorSpec(shape=(None, 75, None, None, None), dtype=tf.float32, name=None), TensorSpec(shape=(None, 40), dtype=tf.int64, name=None))>"
      ]
     },
     "execution_count": 50,
     "metadata": {},
     "output_type": "execute_result"
    }
   ],
   "source": [
    "train"
   ]
  },
  {
   "cell_type": "code",
   "execution_count": 51,
   "id": "8ffba483-aa61-4bbe-a15f-a73e1ddf097c",
   "metadata": {
    "tags": []
   },
   "outputs": [
    {
     "name": "stdout",
     "output_type": "stream",
     "text": [
      "Epoch 1/100\n"
     ]
    },
    {
     "name": "stderr",
     "output_type": "stream",
     "text": [
      "WARNING: All log messages before absl::InitializeLog() is called are written to STDERR\n",
      "I0000 00:00:1731441073.841568  193843 service.cc:148] XLA service 0x30645b780 initialized for platform Host (this does not guarantee that XLA will be used). Devices:\n",
      "I0000 00:00:1731441073.841728  193843 service.cc:156]   StreamExecutor device (0): Host, Default Version\n",
      "I0000 00:00:1731441073.873027  193843 device_compiler.h:188] Compiled cluster using XLA!  This line is logged at most once for the lifetime of the process.\n",
      "2024-11-13 01:21:15.674524: W tensorflow/core/framework/op_kernel.cc:1841] OP_REQUIRES failed at reshape_op.h:65 : INVALID_ARGUMENT: Only one input size may be -1, not both 0 and 1\n",
      "2024-11-13 01:21:15.674745: W tensorflow/core/framework/op_kernel.cc:1841] OP_REQUIRES failed at reshape_op.h:65 : INVALID_ARGUMENT: Only one input size may be -1, not both 0 and 1\n",
      "2024-11-13 01:21:15.674760: W tensorflow/core/framework/op_kernel.cc:1841] OP_REQUIRES failed at reshape_op.h:65 : INVALID_ARGUMENT: Only one input size may be -1, not both 0 and 1\n",
      "2024-11-13 01:21:15.674781: W tensorflow/core/framework/op_kernel.cc:1841] OP_REQUIRES failed at reshape_op.h:65 : INVALID_ARGUMENT: Only one input size may be -1, not both 0 and 1\n",
      "2024-11-13 01:21:15.674792: W tensorflow/core/framework/op_kernel.cc:1841] OP_REQUIRES failed at reshape_op.h:65 : INVALID_ARGUMENT: Only one input size may be -1, not both 0 and 1\n",
      "2024-11-13 01:21:15.674798: W tensorflow/core/framework/op_kernel.cc:1841] OP_REQUIRES failed at reshape_op.h:65 : INVALID_ARGUMENT: Only one input size may be -1, not both 0 and 1\n",
      "2024-11-13 01:21:15.674815: W tensorflow/core/framework/op_kernel.cc:1841] OP_REQUIRES failed at reshape_op.h:65 : INVALID_ARGUMENT: Only one input size may be -1, not both 0 and 1\n",
      "2024-11-13 01:21:15.674832: W tensorflow/core/framework/op_kernel.cc:1841] OP_REQUIRES failed at reshape_op.h:65 : INVALID_ARGUMENT: Only one input size may be -1, not both 0 and 1\n",
      "2024-11-13 01:21:15.675218: I tensorflow/core/framework/local_rendezvous.cc:405] Local rendezvous is aborting with status: INVALID_ARGUMENT: Only one input size may be -1, not both 0 and 1\n",
      "\t [[{{function_node __inference_one_step_on_data_31119}}{{node sequential_1/time_distributed_1/Reshape_3}}]]\n",
      "2024-11-13 01:21:15.675231: W tensorflow/core/framework/op_kernel.cc:1841] OP_REQUIRES failed at reshape_op.h:65 : INVALID_ARGUMENT: Only one input size may be -1, not both 0 and 1\n",
      "2024-11-13 01:21:15.675237: W tensorflow/core/framework/op_kernel.cc:1841] OP_REQUIRES failed at reshape_op.h:65 : INVALID_ARGUMENT: Only one input size may be -1, not both 0 and 1\n",
      "2024-11-13 01:21:15.675248: W tensorflow/core/framework/op_kernel.cc:1841] OP_REQUIRES failed at reshape_op.h:65 : INVALID_ARGUMENT: Only one input size may be -1, not both 0 and 1\n",
      "2024-11-13 01:21:15.675256: W tensorflow/core/framework/op_kernel.cc:1841] OP_REQUIRES failed at reshape_op.h:65 : INVALID_ARGUMENT: Only one input size may be -1, not both 0 and 1\n",
      "2024-11-13 01:21:15.675261: W tensorflow/core/framework/op_kernel.cc:1841] OP_REQUIRES failed at reshape_op.h:65 : INVALID_ARGUMENT: Only one input size may be -1, not both 0 and 1\n",
      "2024-11-13 01:21:15.675278: W tensorflow/core/framework/op_kernel.cc:1841] OP_REQUIRES failed at reshape_op.h:65 : INVALID_ARGUMENT: Only one input size may be -1, not both 0 and 1\n",
      "2024-11-13 01:21:15.675282: W tensorflow/core/framework/op_kernel.cc:1841] OP_REQUIRES failed at reshape_op.h:65 : INVALID_ARGUMENT: Only one input size may be -1, not both 0 and 1\n",
      "2024-11-13 01:21:15.675291: W tensorflow/core/framework/op_kernel.cc:1841] OP_REQUIRES failed at reshape_op.h:65 : INVALID_ARGUMENT: Only one input size may be -1, not both 0 and 1\n",
      "2024-11-13 01:21:15.675295: W tensorflow/core/framework/op_kernel.cc:1841] OP_REQUIRES failed at reshape_op.h:65 : INVALID_ARGUMENT: Only one input size may be -1, not both 0 and 1\n",
      "2024-11-13 01:21:15.675319: W tensorflow/core/framework/op_kernel.cc:1841] OP_REQUIRES failed at reshape_op.h:65 : INVALID_ARGUMENT: Only one input size may be -1, not both 0 and 1\n",
      "2024-11-13 01:21:15.675331: W tensorflow/core/framework/op_kernel.cc:1841] OP_REQUIRES failed at reshape_op.h:65 : INVALID_ARGUMENT: Only one input size may be -1, not both 0 and 1\n",
      "2024-11-13 01:21:15.675337: W tensorflow/core/framework/op_kernel.cc:1841] OP_REQUIRES failed at reshape_op.h:65 : INVALID_ARGUMENT: Only one input size may be -1, not both 0 and 1\n",
      "2024-11-13 01:21:15.675354: W tensorflow/core/framework/op_kernel.cc:1841] OP_REQUIRES failed at reshape_op.h:65 : INVALID_ARGUMENT: Only one input size may be -1, not both 0 and 1\n",
      "2024-11-13 01:21:15.675360: W tensorflow/core/framework/op_kernel.cc:1841] OP_REQUIRES failed at reshape_op.h:65 : INVALID_ARGUMENT: Only one input size may be -1, not both 0 and 1\n",
      "2024-11-13 01:21:15.675374: W tensorflow/core/framework/op_kernel.cc:1841] OP_REQUIRES failed at reshape_op.h:65 : INVALID_ARGUMENT: Only one input size may be -1, not both 0 and 1\n",
      "2024-11-13 01:21:15.675384: W tensorflow/core/framework/op_kernel.cc:1841] OP_REQUIRES failed at reshape_op.h:65 : INVALID_ARGUMENT: Only one input size may be -1, not both 0 and 1\n",
      "2024-11-13 01:21:15.675387: W tensorflow/core/framework/op_kernel.cc:1841] OP_REQUIRES failed at reshape_op.h:65 : INVALID_ARGUMENT: Only one input size may be -1, not both 0 and 1\n",
      "2024-11-13 01:21:15.675393: W tensorflow/core/framework/op_kernel.cc:1841] OP_REQUIRES failed at reshape_op.h:65 : INVALID_ARGUMENT: Only one input size may be -1, not both 0 and 1\n",
      "2024-11-13 01:21:15.675409: W tensorflow/core/framework/op_kernel.cc:1841] OP_REQUIRES failed at reshape_op.h:65 : INVALID_ARGUMENT: Only one input size may be -1, not both 0 and 1\n",
      "2024-11-13 01:21:15.675412: W tensorflow/core/framework/op_kernel.cc:1841] OP_REQUIRES failed at reshape_op.h:65 : INVALID_ARGUMENT: Only one input size may be -1, not both 0 and 1\n",
      "2024-11-13 01:21:15.675421: W tensorflow/core/framework/op_kernel.cc:1841] OP_REQUIRES failed at reshape_op.h:65 : INVALID_ARGUMENT: Only one input size may be -1, not both 0 and 1\n",
      "2024-11-13 01:21:15.675428: W tensorflow/core/framework/op_kernel.cc:1841] OP_REQUIRES failed at reshape_op.h:65 : INVALID_ARGUMENT: Only one input size may be -1, not both 0 and 1\n",
      "2024-11-13 01:21:15.675436: W tensorflow/core/framework/op_kernel.cc:1841] OP_REQUIRES failed at reshape_op.h:65 : INVALID_ARGUMENT: Only one input size may be -1, not both 0 and 1\n",
      "2024-11-13 01:21:15.675442: W tensorflow/core/framework/op_kernel.cc:1841] OP_REQUIRES failed at reshape_op.h:65 : INVALID_ARGUMENT: Only one input size may be -1, not both 0 and 1\n",
      "2024-11-13 01:21:15.675448: W tensorflow/core/framework/op_kernel.cc:1841] OP_REQUIRES failed at reshape_op.h:65 : INVALID_ARGUMENT: Only one input size may be -1, not both 0 and 1\n",
      "2024-11-13 01:21:15.675458: W tensorflow/core/framework/op_kernel.cc:1841] OP_REQUIRES failed at reshape_op.h:65 : INVALID_ARGUMENT: Only one input size may be -1, not both 0 and 1\n",
      "2024-11-13 01:21:15.675463: W tensorflow/core/framework/op_kernel.cc:1841] OP_REQUIRES failed at reshape_op.h:65 : INVALID_ARGUMENT: Only one input size may be -1, not both 0 and 1\n",
      "2024-11-13 01:21:15.675476: W tensorflow/core/framework/op_kernel.cc:1841] OP_REQUIRES failed at reshape_op.h:65 : INVALID_ARGUMENT: Only one input size may be -1, not both 0 and 1\n",
      "2024-11-13 01:21:15.675493: W tensorflow/core/framework/op_kernel.cc:1841] OP_REQUIRES failed at reshape_op.h:65 : INVALID_ARGUMENT: Only one input size may be -1, not both 0 and 1\n",
      "2024-11-13 01:21:15.675502: W tensorflow/core/framework/op_kernel.cc:1841] OP_REQUIRES failed at reshape_op.h:65 : INVALID_ARGUMENT: Only one input size may be -1, not both 0 and 1\n",
      "2024-11-13 01:21:15.675510: W tensorflow/core/framework/op_kernel.cc:1841] OP_REQUIRES failed at reshape_op.h:65 : INVALID_ARGUMENT: Only one input size may be -1, not both 0 and 1\n",
      "2024-11-13 01:21:15.675519: W tensorflow/core/framework/op_kernel.cc:1841] OP_REQUIRES failed at reshape_op.h:65 : INVALID_ARGUMENT: Only one input size may be -1, not both 0 and 1\n",
      "2024-11-13 01:21:15.675542: W tensorflow/core/framework/op_kernel.cc:1841] OP_REQUIRES failed at reshape_op.h:65 : INVALID_ARGUMENT: Only one input size may be -1, not both 0 and 1\n",
      "2024-11-13 01:21:15.675548: W tensorflow/core/framework/op_kernel.cc:1841] OP_REQUIRES failed at reshape_op.h:65 : INVALID_ARGUMENT: Only one input size may be -1, not both 0 and 1\n",
      "2024-11-13 01:21:15.675553: W tensorflow/core/framework/op_kernel.cc:1841] OP_REQUIRES failed at reshape_op.h:65 : INVALID_ARGUMENT: Only one input size may be -1, not both 0 and 1\n",
      "2024-11-13 01:21:15.675583: W tensorflow/core/framework/op_kernel.cc:1841] OP_REQUIRES failed at reshape_op.h:65 : INVALID_ARGUMENT: Only one input size may be -1, not both 0 and 1\n",
      "2024-11-13 01:21:15.675597: W tensorflow/core/framework/op_kernel.cc:1841] OP_REQUIRES failed at reshape_op.h:65 : INVALID_ARGUMENT: Only one input size may be -1, not both 0 and 1\n",
      "2024-11-13 01:21:15.675615: W tensorflow/core/framework/op_kernel.cc:1841] OP_REQUIRES failed at reshape_op.h:65 : INVALID_ARGUMENT: Only one input size may be -1, not both 0 and 1\n",
      "2024-11-13 01:21:15.675618: W tensorflow/core/framework/op_kernel.cc:1841] OP_REQUIRES failed at reshape_op.h:65 : INVALID_ARGUMENT: Only one input size may be -1, not both 0 and 1\n",
      "2024-11-13 01:21:15.675623: W tensorflow/core/framework/op_kernel.cc:1841] OP_REQUIRES failed at reshape_op.h:65 : INVALID_ARGUMENT: Only one input size may be -1, not both 0 and 1\n",
      "2024-11-13 01:21:15.675630: W tensorflow/core/framework/op_kernel.cc:1841] OP_REQUIRES failed at reshape_op.h:65 : INVALID_ARGUMENT: Only one input size may be -1, not both 0 and 1\n",
      "2024-11-13 01:21:15.675638: W tensorflow/core/framework/op_kernel.cc:1841] OP_REQUIRES failed at reshape_op.h:65 : INVALID_ARGUMENT: Only one input size may be -1, not both 0 and 1\n",
      "2024-11-13 01:21:15.675643: W tensorflow/core/framework/op_kernel.cc:1841] OP_REQUIRES failed at reshape_op.h:65 : INVALID_ARGUMENT: Only one input size may be -1, not both 0 and 1\n",
      "2024-11-13 01:21:15.675649: W tensorflow/core/framework/op_kernel.cc:1841] OP_REQUIRES failed at reshape_op.h:65 : INVALID_ARGUMENT: Only one input size may be -1, not both 0 and 1\n",
      "2024-11-13 01:21:15.675658: W tensorflow/core/framework/op_kernel.cc:1841] OP_REQUIRES failed at reshape_op.h:65 : INVALID_ARGUMENT: Only one input size may be -1, not both 0 and 1\n",
      "2024-11-13 01:21:15.675661: W tensorflow/core/framework/op_kernel.cc:1841] OP_REQUIRES failed at reshape_op.h:65 : INVALID_ARGUMENT: Only one input size may be -1, not both 0 and 1\n",
      "2024-11-13 01:21:15.675670: W tensorflow/core/framework/op_kernel.cc:1841] OP_REQUIRES failed at reshape_op.h:65 : INVALID_ARGUMENT: Only one input size may be -1, not both 0 and 1\n",
      "2024-11-13 01:21:15.675679: W tensorflow/core/framework/op_kernel.cc:1841] OP_REQUIRES failed at reshape_op.h:65 : INVALID_ARGUMENT: Only one input size may be -1, not both 0 and 1\n",
      "2024-11-13 01:21:15.675692: W tensorflow/core/framework/op_kernel.cc:1841] OP_REQUIRES failed at reshape_op.h:65 : INVALID_ARGUMENT: Only one input size may be -1, not both 0 and 1\n",
      "2024-11-13 01:21:15.675697: W tensorflow/core/framework/op_kernel.cc:1841] OP_REQUIRES failed at reshape_op.h:65 : INVALID_ARGUMENT: Only one input size may be -1, not both 0 and 1\n",
      "2024-11-13 01:21:15.675704: W tensorflow/core/framework/op_kernel.cc:1841] OP_REQUIRES failed at reshape_op.h:65 : INVALID_ARGUMENT: Only one input size may be -1, not both 0 and 1\n",
      "2024-11-13 01:21:15.675709: W tensorflow/core/framework/op_kernel.cc:1841] OP_REQUIRES failed at reshape_op.h:65 : INVALID_ARGUMENT: Only one input size may be -1, not both 0 and 1\n",
      "2024-11-13 01:21:15.675724: W tensorflow/core/framework/op_kernel.cc:1841] OP_REQUIRES failed at reshape_op.h:65 : INVALID_ARGUMENT: Only one input size may be -1, not both 0 and 1\n",
      "2024-11-13 01:21:15.675735: W tensorflow/core/framework/op_kernel.cc:1841] OP_REQUIRES failed at reshape_op.h:65 : INVALID_ARGUMENT: Only one input size may be -1, not both 0 and 1\n",
      "2024-11-13 01:21:15.675737: W tensorflow/core/framework/op_kernel.cc:1841] OP_REQUIRES failed at reshape_op.h:65 : INVALID_ARGUMENT: Only one input size may be -1, not both 0 and 1\n",
      "2024-11-13 01:21:15.675741: W tensorflow/core/framework/op_kernel.cc:1841] OP_REQUIRES failed at reshape_op.h:65 : INVALID_ARGUMENT: Only one input size may be -1, not both 0 and 1\n",
      "2024-11-13 01:21:15.675757: W tensorflow/core/framework/op_kernel.cc:1841] OP_REQUIRES failed at reshape_op.h:65 : INVALID_ARGUMENT: Only one input size may be -1, not both 0 and 1\n",
      "2024-11-13 01:21:15.675767: W tensorflow/core/framework/op_kernel.cc:1841] OP_REQUIRES failed at reshape_op.h:65 : INVALID_ARGUMENT: Only one input size may be -1, not both 0 and 1\n",
      "2024-11-13 01:21:15.675770: W tensorflow/core/framework/op_kernel.cc:1841] OP_REQUIRES failed at reshape_op.h:65 : INVALID_ARGUMENT: Only one input size may be -1, not both 0 and 1\n",
      "2024-11-13 01:21:15.675773: W tensorflow/core/framework/op_kernel.cc:1841] OP_REQUIRES failed at reshape_op.h:65 : INVALID_ARGUMENT: Only one input size may be -1, not both 0 and 1\n",
      "2024-11-13 01:21:15.675777: W tensorflow/core/framework/op_kernel.cc:1841] OP_REQUIRES failed at reshape_op.h:65 : INVALID_ARGUMENT: Only one input size may be -1, not both 0 and 1\n",
      "2024-11-13 01:21:15.675797: W tensorflow/core/framework/op_kernel.cc:1841] OP_REQUIRES failed at reshape_op.h:65 : INVALID_ARGUMENT: Only one input size may be -1, not both 0 and 1\n",
      "2024-11-13 01:21:15.675815: W tensorflow/core/framework/op_kernel.cc:1841] OP_REQUIRES failed at reshape_op.h:65 : INVALID_ARGUMENT: Only one input size may be -1, not both 0 and 1\n",
      "2024-11-13 01:21:15.675843: W tensorflow/core/framework/op_kernel.cc:1841] OP_REQUIRES failed at reshape_op.h:65 : INVALID_ARGUMENT: Only one input size may be -1, not both 0 and 1\n",
      "2024-11-13 01:21:15.675873: W tensorflow/core/framework/op_kernel.cc:1841] OP_REQUIRES failed at reshape_op.h:65 : INVALID_ARGUMENT: Only one input size may be -1, not both 0 and 1\n",
      "2024-11-13 01:21:15.675906: W tensorflow/core/framework/op_kernel.cc:1841] OP_REQUIRES failed at reshape_op.h:65 : INVALID_ARGUMENT: Only one input size may be -1, not both 0 and 1\n",
      "2024-11-13 01:21:15.675919: W tensorflow/core/framework/op_kernel.cc:1841] OP_REQUIRES failed at reshape_op.h:65 : INVALID_ARGUMENT: Only one input size may be -1, not both 0 and 1\n"
     ]
    },
    {
     "ename": "InvalidArgumentError",
     "evalue": "Graph execution error:\n\nDetected at node sequential_1/time_distributed_1/Reshape_3 defined at (most recent call last):\n  File \"/Library/Developer/CommandLineTools/Library/Frameworks/Python3.framework/Versions/3.9/lib/python3.9/runpy.py\", line 197, in _run_module_as_main\n\n  File \"/Library/Developer/CommandLineTools/Library/Frameworks/Python3.framework/Versions/3.9/lib/python3.9/runpy.py\", line 87, in _run_code\n\n  File \"/Users/raman/Desktop/Deep Learning/lipread_tensorflow-main/env/lib/python3.9/site-packages/ipykernel_launcher.py\", line 18, in <module>\n\n  File \"/Users/raman/Desktop/Deep Learning/lipread_tensorflow-main/env/lib/python3.9/site-packages/traitlets/config/application.py\", line 1075, in launch_instance\n\n  File \"/Users/raman/Desktop/Deep Learning/lipread_tensorflow-main/env/lib/python3.9/site-packages/ipykernel/kernelapp.py\", line 739, in start\n\n  File \"/Users/raman/Desktop/Deep Learning/lipread_tensorflow-main/env/lib/python3.9/site-packages/tornado/platform/asyncio.py\", line 205, in start\n\n  File \"/Library/Developer/CommandLineTools/Library/Frameworks/Python3.framework/Versions/3.9/lib/python3.9/asyncio/base_events.py\", line 596, in run_forever\n\n  File \"/Library/Developer/CommandLineTools/Library/Frameworks/Python3.framework/Versions/3.9/lib/python3.9/asyncio/base_events.py\", line 1890, in _run_once\n\n  File \"/Library/Developer/CommandLineTools/Library/Frameworks/Python3.framework/Versions/3.9/lib/python3.9/asyncio/events.py\", line 80, in _run\n\n  File \"/Users/raman/Desktop/Deep Learning/lipread_tensorflow-main/env/lib/python3.9/site-packages/ipykernel/kernelbase.py\", line 545, in dispatch_queue\n\n  File \"/Users/raman/Desktop/Deep Learning/lipread_tensorflow-main/env/lib/python3.9/site-packages/ipykernel/kernelbase.py\", line 534, in process_one\n\n  File \"/Users/raman/Desktop/Deep Learning/lipread_tensorflow-main/env/lib/python3.9/site-packages/ipykernel/kernelbase.py\", line 437, in dispatch_shell\n\n  File \"/Users/raman/Desktop/Deep Learning/lipread_tensorflow-main/env/lib/python3.9/site-packages/ipykernel/ipkernel.py\", line 362, in execute_request\n\n  File \"/Users/raman/Desktop/Deep Learning/lipread_tensorflow-main/env/lib/python3.9/site-packages/ipykernel/kernelbase.py\", line 778, in execute_request\n\n  File \"/Users/raman/Desktop/Deep Learning/lipread_tensorflow-main/env/lib/python3.9/site-packages/ipykernel/ipkernel.py\", line 449, in do_execute\n\n  File \"/Users/raman/Desktop/Deep Learning/lipread_tensorflow-main/env/lib/python3.9/site-packages/ipykernel/zmqshell.py\", line 549, in run_cell\n\n  File \"/Users/raman/Desktop/Deep Learning/lipread_tensorflow-main/env/lib/python3.9/site-packages/IPython/core/interactiveshell.py\", line 3048, in run_cell\n\n  File \"/Users/raman/Desktop/Deep Learning/lipread_tensorflow-main/env/lib/python3.9/site-packages/IPython/core/interactiveshell.py\", line 3103, in _run_cell\n\n  File \"/Users/raman/Desktop/Deep Learning/lipread_tensorflow-main/env/lib/python3.9/site-packages/IPython/core/async_helpers.py\", line 129, in _pseudo_sync_runner\n\n  File \"/Users/raman/Desktop/Deep Learning/lipread_tensorflow-main/env/lib/python3.9/site-packages/IPython/core/interactiveshell.py\", line 3308, in run_cell_async\n\n  File \"/Users/raman/Desktop/Deep Learning/lipread_tensorflow-main/env/lib/python3.9/site-packages/IPython/core/interactiveshell.py\", line 3490, in run_ast_nodes\n\n  File \"/Users/raman/Desktop/Deep Learning/lipread_tensorflow-main/env/lib/python3.9/site-packages/IPython/core/interactiveshell.py\", line 3550, in run_code\n\n  File \"/var/folders/70/_xc8h2gj12b_8vjmwzk16r640000gn/T/ipykernel_8137/3536403359.py\", line 1, in <module>\n\n  File \"/Users/raman/Desktop/Deep Learning/lipread_tensorflow-main/env/lib/python3.9/site-packages/keras/src/utils/traceback_utils.py\", line 117, in error_handler\n\n  File \"/Users/raman/Desktop/Deep Learning/lipread_tensorflow-main/env/lib/python3.9/site-packages/keras/src/backend/tensorflow/trainer.py\", line 320, in fit\n\n  File \"/Users/raman/Desktop/Deep Learning/lipread_tensorflow-main/env/lib/python3.9/site-packages/keras/src/backend/tensorflow/trainer.py\", line 121, in one_step_on_iterator\n\n  File \"/Users/raman/Desktop/Deep Learning/lipread_tensorflow-main/env/lib/python3.9/site-packages/keras/src/backend/tensorflow/trainer.py\", line 108, in one_step_on_data\n\n  File \"/Users/raman/Desktop/Deep Learning/lipread_tensorflow-main/env/lib/python3.9/site-packages/keras/src/backend/tensorflow/trainer.py\", line 51, in train_step\n\n  File \"/Users/raman/Desktop/Deep Learning/lipread_tensorflow-main/env/lib/python3.9/site-packages/keras/src/utils/traceback_utils.py\", line 117, in error_handler\n\n  File \"/Users/raman/Desktop/Deep Learning/lipread_tensorflow-main/env/lib/python3.9/site-packages/keras/src/layers/layer.py\", line 899, in __call__\n\n  File \"/Users/raman/Desktop/Deep Learning/lipread_tensorflow-main/env/lib/python3.9/site-packages/keras/src/utils/traceback_utils.py\", line 117, in error_handler\n\n  File \"/Users/raman/Desktop/Deep Learning/lipread_tensorflow-main/env/lib/python3.9/site-packages/keras/src/ops/operation.py\", line 46, in __call__\n\n  File \"/Users/raman/Desktop/Deep Learning/lipread_tensorflow-main/env/lib/python3.9/site-packages/keras/src/utils/traceback_utils.py\", line 156, in error_handler\n\n  File \"/Users/raman/Desktop/Deep Learning/lipread_tensorflow-main/env/lib/python3.9/site-packages/keras/src/models/sequential.py\", line 213, in call\n\n  File \"/Users/raman/Desktop/Deep Learning/lipread_tensorflow-main/env/lib/python3.9/site-packages/keras/src/models/functional.py\", line 182, in call\n\n  File \"/Users/raman/Desktop/Deep Learning/lipread_tensorflow-main/env/lib/python3.9/site-packages/keras/src/ops/function.py\", line 171, in _run_through_graph\n\n  File \"/Users/raman/Desktop/Deep Learning/lipread_tensorflow-main/env/lib/python3.9/site-packages/keras/src/models/functional.py\", line 584, in call\n\n  File \"/Users/raman/Desktop/Deep Learning/lipread_tensorflow-main/env/lib/python3.9/site-packages/keras/src/utils/traceback_utils.py\", line 117, in error_handler\n\n  File \"/Users/raman/Desktop/Deep Learning/lipread_tensorflow-main/env/lib/python3.9/site-packages/keras/src/layers/layer.py\", line 899, in __call__\n\n  File \"/Users/raman/Desktop/Deep Learning/lipread_tensorflow-main/env/lib/python3.9/site-packages/keras/src/utils/traceback_utils.py\", line 117, in error_handler\n\n  File \"/Users/raman/Desktop/Deep Learning/lipread_tensorflow-main/env/lib/python3.9/site-packages/keras/src/ops/operation.py\", line 46, in __call__\n\n  File \"/Users/raman/Desktop/Deep Learning/lipread_tensorflow-main/env/lib/python3.9/site-packages/keras/src/utils/traceback_utils.py\", line 156, in error_handler\n\n  File \"/Users/raman/Desktop/Deep Learning/lipread_tensorflow-main/env/lib/python3.9/site-packages/keras/src/layers/rnn/time_distributed.py\", line 108, in call\n\n  File \"/Users/raman/Desktop/Deep Learning/lipread_tensorflow-main/env/lib/python3.9/site-packages/keras/src/layers/rnn/time_distributed.py\", line 108, in <listcomp>\n\n  File \"/Users/raman/Desktop/Deep Learning/lipread_tensorflow-main/env/lib/python3.9/site-packages/keras/src/layers/rnn/time_distributed.py\", line 102, in step_function\n\n  File \"/Users/raman/Desktop/Deep Learning/lipread_tensorflow-main/env/lib/python3.9/site-packages/keras/src/layers/reshaping/flatten.py\", line 54, in call\n\n  File \"/Users/raman/Desktop/Deep Learning/lipread_tensorflow-main/env/lib/python3.9/site-packages/keras/src/ops/numpy.py\", line 4728, in reshape\n\n  File \"/Users/raman/Desktop/Deep Learning/lipread_tensorflow-main/env/lib/python3.9/site-packages/keras/src/backend/tensorflow/numpy.py\", line 1851, in reshape\n\nOnly one input size may be -1, not both 0 and 1\n\t [[{{node sequential_1/time_distributed_1/Reshape_3}}]] [Op:__inference_one_step_on_iterator_31254]",
     "output_type": "error",
     "traceback": [
      "\u001b[0;31m---------------------------------------------------------------------------\u001b[0m",
      "\u001b[0;31mInvalidArgumentError\u001b[0m                      Traceback (most recent call last)",
      "Cell \u001b[0;32mIn[51], line 1\u001b[0m\n\u001b[0;32m----> 1\u001b[0m \u001b[43mmodel\u001b[49m\u001b[38;5;241;43m.\u001b[39;49m\u001b[43mfit\u001b[49m\u001b[43m(\u001b[49m\u001b[43mtrain\u001b[49m\u001b[43m,\u001b[49m\u001b[43m \u001b[49m\u001b[43mvalidation_data\u001b[49m\u001b[38;5;241;43m=\u001b[39;49m\u001b[43mtest\u001b[49m\u001b[43m,\u001b[49m\u001b[43m \u001b[49m\u001b[43mepochs\u001b[49m\u001b[38;5;241;43m=\u001b[39;49m\u001b[38;5;241;43m100\u001b[39;49m\u001b[43m,\u001b[49m\u001b[43m \u001b[49m\u001b[43mcallbacks\u001b[49m\u001b[38;5;241;43m=\u001b[39;49m\u001b[43m[\u001b[49m\u001b[43mcheckpoint_callback\u001b[49m\u001b[43m,\u001b[49m\u001b[43m \u001b[49m\u001b[43mschedule_callback\u001b[49m\u001b[43m,\u001b[49m\u001b[43m \u001b[49m\u001b[43mexample_callback\u001b[49m\u001b[43m]\u001b[49m\u001b[43m)\u001b[49m\n",
      "File \u001b[0;32m~/Desktop/Deep Learning/lipread_tensorflow-main/env/lib/python3.9/site-packages/keras/src/utils/traceback_utils.py:122\u001b[0m, in \u001b[0;36mfilter_traceback.<locals>.error_handler\u001b[0;34m(*args, **kwargs)\u001b[0m\n\u001b[1;32m    119\u001b[0m     filtered_tb \u001b[38;5;241m=\u001b[39m _process_traceback_frames(e\u001b[38;5;241m.\u001b[39m__traceback__)\n\u001b[1;32m    120\u001b[0m     \u001b[38;5;66;03m# To get the full stack trace, call:\u001b[39;00m\n\u001b[1;32m    121\u001b[0m     \u001b[38;5;66;03m# `keras.config.disable_traceback_filtering()`\u001b[39;00m\n\u001b[0;32m--> 122\u001b[0m     \u001b[38;5;28;01mraise\u001b[39;00m e\u001b[38;5;241m.\u001b[39mwith_traceback(filtered_tb) \u001b[38;5;28;01mfrom\u001b[39;00m \u001b[38;5;28;01mNone\u001b[39;00m\n\u001b[1;32m    123\u001b[0m \u001b[38;5;28;01mfinally\u001b[39;00m:\n\u001b[1;32m    124\u001b[0m     \u001b[38;5;28;01mdel\u001b[39;00m filtered_tb\n",
      "File \u001b[0;32m~/Desktop/Deep Learning/lipread_tensorflow-main/env/lib/python3.9/site-packages/tensorflow/python/eager/execute.py:53\u001b[0m, in \u001b[0;36mquick_execute\u001b[0;34m(op_name, num_outputs, inputs, attrs, ctx, name)\u001b[0m\n\u001b[1;32m     51\u001b[0m \u001b[38;5;28;01mtry\u001b[39;00m:\n\u001b[1;32m     52\u001b[0m   ctx\u001b[38;5;241m.\u001b[39mensure_initialized()\n\u001b[0;32m---> 53\u001b[0m   tensors \u001b[38;5;241m=\u001b[39m pywrap_tfe\u001b[38;5;241m.\u001b[39mTFE_Py_Execute(ctx\u001b[38;5;241m.\u001b[39m_handle, device_name, op_name,\n\u001b[1;32m     54\u001b[0m                                       inputs, attrs, num_outputs)\n\u001b[1;32m     55\u001b[0m \u001b[38;5;28;01mexcept\u001b[39;00m core\u001b[38;5;241m.\u001b[39m_NotOkStatusException \u001b[38;5;28;01mas\u001b[39;00m e:\n\u001b[1;32m     56\u001b[0m   \u001b[38;5;28;01mif\u001b[39;00m name \u001b[38;5;129;01mis\u001b[39;00m \u001b[38;5;129;01mnot\u001b[39;00m \u001b[38;5;28;01mNone\u001b[39;00m:\n",
      "\u001b[0;31mInvalidArgumentError\u001b[0m: Graph execution error:\n\nDetected at node sequential_1/time_distributed_1/Reshape_3 defined at (most recent call last):\n  File \"/Library/Developer/CommandLineTools/Library/Frameworks/Python3.framework/Versions/3.9/lib/python3.9/runpy.py\", line 197, in _run_module_as_main\n\n  File \"/Library/Developer/CommandLineTools/Library/Frameworks/Python3.framework/Versions/3.9/lib/python3.9/runpy.py\", line 87, in _run_code\n\n  File \"/Users/raman/Desktop/Deep Learning/lipread_tensorflow-main/env/lib/python3.9/site-packages/ipykernel_launcher.py\", line 18, in <module>\n\n  File \"/Users/raman/Desktop/Deep Learning/lipread_tensorflow-main/env/lib/python3.9/site-packages/traitlets/config/application.py\", line 1075, in launch_instance\n\n  File \"/Users/raman/Desktop/Deep Learning/lipread_tensorflow-main/env/lib/python3.9/site-packages/ipykernel/kernelapp.py\", line 739, in start\n\n  File \"/Users/raman/Desktop/Deep Learning/lipread_tensorflow-main/env/lib/python3.9/site-packages/tornado/platform/asyncio.py\", line 205, in start\n\n  File \"/Library/Developer/CommandLineTools/Library/Frameworks/Python3.framework/Versions/3.9/lib/python3.9/asyncio/base_events.py\", line 596, in run_forever\n\n  File \"/Library/Developer/CommandLineTools/Library/Frameworks/Python3.framework/Versions/3.9/lib/python3.9/asyncio/base_events.py\", line 1890, in _run_once\n\n  File \"/Library/Developer/CommandLineTools/Library/Frameworks/Python3.framework/Versions/3.9/lib/python3.9/asyncio/events.py\", line 80, in _run\n\n  File \"/Users/raman/Desktop/Deep Learning/lipread_tensorflow-main/env/lib/python3.9/site-packages/ipykernel/kernelbase.py\", line 545, in dispatch_queue\n\n  File \"/Users/raman/Desktop/Deep Learning/lipread_tensorflow-main/env/lib/python3.9/site-packages/ipykernel/kernelbase.py\", line 534, in process_one\n\n  File \"/Users/raman/Desktop/Deep Learning/lipread_tensorflow-main/env/lib/python3.9/site-packages/ipykernel/kernelbase.py\", line 437, in dispatch_shell\n\n  File \"/Users/raman/Desktop/Deep Learning/lipread_tensorflow-main/env/lib/python3.9/site-packages/ipykernel/ipkernel.py\", line 362, in execute_request\n\n  File \"/Users/raman/Desktop/Deep Learning/lipread_tensorflow-main/env/lib/python3.9/site-packages/ipykernel/kernelbase.py\", line 778, in execute_request\n\n  File \"/Users/raman/Desktop/Deep Learning/lipread_tensorflow-main/env/lib/python3.9/site-packages/ipykernel/ipkernel.py\", line 449, in do_execute\n\n  File \"/Users/raman/Desktop/Deep Learning/lipread_tensorflow-main/env/lib/python3.9/site-packages/ipykernel/zmqshell.py\", line 549, in run_cell\n\n  File \"/Users/raman/Desktop/Deep Learning/lipread_tensorflow-main/env/lib/python3.9/site-packages/IPython/core/interactiveshell.py\", line 3048, in run_cell\n\n  File \"/Users/raman/Desktop/Deep Learning/lipread_tensorflow-main/env/lib/python3.9/site-packages/IPython/core/interactiveshell.py\", line 3103, in _run_cell\n\n  File \"/Users/raman/Desktop/Deep Learning/lipread_tensorflow-main/env/lib/python3.9/site-packages/IPython/core/async_helpers.py\", line 129, in _pseudo_sync_runner\n\n  File \"/Users/raman/Desktop/Deep Learning/lipread_tensorflow-main/env/lib/python3.9/site-packages/IPython/core/interactiveshell.py\", line 3308, in run_cell_async\n\n  File \"/Users/raman/Desktop/Deep Learning/lipread_tensorflow-main/env/lib/python3.9/site-packages/IPython/core/interactiveshell.py\", line 3490, in run_ast_nodes\n\n  File \"/Users/raman/Desktop/Deep Learning/lipread_tensorflow-main/env/lib/python3.9/site-packages/IPython/core/interactiveshell.py\", line 3550, in run_code\n\n  File \"/var/folders/70/_xc8h2gj12b_8vjmwzk16r640000gn/T/ipykernel_8137/3536403359.py\", line 1, in <module>\n\n  File \"/Users/raman/Desktop/Deep Learning/lipread_tensorflow-main/env/lib/python3.9/site-packages/keras/src/utils/traceback_utils.py\", line 117, in error_handler\n\n  File \"/Users/raman/Desktop/Deep Learning/lipread_tensorflow-main/env/lib/python3.9/site-packages/keras/src/backend/tensorflow/trainer.py\", line 320, in fit\n\n  File \"/Users/raman/Desktop/Deep Learning/lipread_tensorflow-main/env/lib/python3.9/site-packages/keras/src/backend/tensorflow/trainer.py\", line 121, in one_step_on_iterator\n\n  File \"/Users/raman/Desktop/Deep Learning/lipread_tensorflow-main/env/lib/python3.9/site-packages/keras/src/backend/tensorflow/trainer.py\", line 108, in one_step_on_data\n\n  File \"/Users/raman/Desktop/Deep Learning/lipread_tensorflow-main/env/lib/python3.9/site-packages/keras/src/backend/tensorflow/trainer.py\", line 51, in train_step\n\n  File \"/Users/raman/Desktop/Deep Learning/lipread_tensorflow-main/env/lib/python3.9/site-packages/keras/src/utils/traceback_utils.py\", line 117, in error_handler\n\n  File \"/Users/raman/Desktop/Deep Learning/lipread_tensorflow-main/env/lib/python3.9/site-packages/keras/src/layers/layer.py\", line 899, in __call__\n\n  File \"/Users/raman/Desktop/Deep Learning/lipread_tensorflow-main/env/lib/python3.9/site-packages/keras/src/utils/traceback_utils.py\", line 117, in error_handler\n\n  File \"/Users/raman/Desktop/Deep Learning/lipread_tensorflow-main/env/lib/python3.9/site-packages/keras/src/ops/operation.py\", line 46, in __call__\n\n  File \"/Users/raman/Desktop/Deep Learning/lipread_tensorflow-main/env/lib/python3.9/site-packages/keras/src/utils/traceback_utils.py\", line 156, in error_handler\n\n  File \"/Users/raman/Desktop/Deep Learning/lipread_tensorflow-main/env/lib/python3.9/site-packages/keras/src/models/sequential.py\", line 213, in call\n\n  File \"/Users/raman/Desktop/Deep Learning/lipread_tensorflow-main/env/lib/python3.9/site-packages/keras/src/models/functional.py\", line 182, in call\n\n  File \"/Users/raman/Desktop/Deep Learning/lipread_tensorflow-main/env/lib/python3.9/site-packages/keras/src/ops/function.py\", line 171, in _run_through_graph\n\n  File \"/Users/raman/Desktop/Deep Learning/lipread_tensorflow-main/env/lib/python3.9/site-packages/keras/src/models/functional.py\", line 584, in call\n\n  File \"/Users/raman/Desktop/Deep Learning/lipread_tensorflow-main/env/lib/python3.9/site-packages/keras/src/utils/traceback_utils.py\", line 117, in error_handler\n\n  File \"/Users/raman/Desktop/Deep Learning/lipread_tensorflow-main/env/lib/python3.9/site-packages/keras/src/layers/layer.py\", line 899, in __call__\n\n  File \"/Users/raman/Desktop/Deep Learning/lipread_tensorflow-main/env/lib/python3.9/site-packages/keras/src/utils/traceback_utils.py\", line 117, in error_handler\n\n  File \"/Users/raman/Desktop/Deep Learning/lipread_tensorflow-main/env/lib/python3.9/site-packages/keras/src/ops/operation.py\", line 46, in __call__\n\n  File \"/Users/raman/Desktop/Deep Learning/lipread_tensorflow-main/env/lib/python3.9/site-packages/keras/src/utils/traceback_utils.py\", line 156, in error_handler\n\n  File \"/Users/raman/Desktop/Deep Learning/lipread_tensorflow-main/env/lib/python3.9/site-packages/keras/src/layers/rnn/time_distributed.py\", line 108, in call\n\n  File \"/Users/raman/Desktop/Deep Learning/lipread_tensorflow-main/env/lib/python3.9/site-packages/keras/src/layers/rnn/time_distributed.py\", line 108, in <listcomp>\n\n  File \"/Users/raman/Desktop/Deep Learning/lipread_tensorflow-main/env/lib/python3.9/site-packages/keras/src/layers/rnn/time_distributed.py\", line 102, in step_function\n\n  File \"/Users/raman/Desktop/Deep Learning/lipread_tensorflow-main/env/lib/python3.9/site-packages/keras/src/layers/reshaping/flatten.py\", line 54, in call\n\n  File \"/Users/raman/Desktop/Deep Learning/lipread_tensorflow-main/env/lib/python3.9/site-packages/keras/src/ops/numpy.py\", line 4728, in reshape\n\n  File \"/Users/raman/Desktop/Deep Learning/lipread_tensorflow-main/env/lib/python3.9/site-packages/keras/src/backend/tensorflow/numpy.py\", line 1851, in reshape\n\nOnly one input size may be -1, not both 0 and 1\n\t [[{{node sequential_1/time_distributed_1/Reshape_3}}]] [Op:__inference_one_step_on_iterator_31254]"
     ]
    }
   ],
   "source": [
    "model.fit(train, validation_data=test, epochs=100, callbacks=[checkpoint_callback, schedule_callback, example_callback])"
   ]
  },
  {
   "cell_type": "markdown",
   "id": "fa8ee94b-89f7-4733-8a0c-a86f86ff590a",
   "metadata": {
    "tags": []
   },
   "source": [
    "# 5. Make a Prediction "
   ]
  },
  {
   "cell_type": "code",
   "execution_count": null,
   "id": "01fa7204-ce0e-49a8-8dbd-14fe5dfead40",
   "metadata": {
    "tags": []
   },
   "outputs": [],
   "source": [
    "url = 'https://drive.google.com/uc?id=1vWscXs4Vt0a_1IH1-ct2TCgXAZT-N3_Y'\n",
    "output = 'checkpoints.zip'\n",
    "gdown.download(url, output, quiet=False)\n",
    "gdown.extractall('checkpoints.zip', 'models')"
   ]
  },
  {
   "cell_type": "code",
   "execution_count": null,
   "id": "b37d72bd",
   "metadata": {},
   "outputs": [
    {
     "data": {
      "text/html": [
       "<pre style=\"white-space:pre;overflow-x:auto;line-height:normal;font-family:Menlo,'DejaVu Sans Mono',consolas,'Courier New',monospace\"><span style=\"font-weight: bold\">Model: \"sequential_6\"</span>\n",
       "</pre>\n"
      ],
      "text/plain": [
       "\u001b[1mModel: \"sequential_6\"\u001b[0m\n"
      ]
     },
     "metadata": {},
     "output_type": "display_data"
    },
    {
     "data": {
      "text/html": [
       "<pre style=\"white-space:pre;overflow-x:auto;line-height:normal;font-family:Menlo,'DejaVu Sans Mono',consolas,'Courier New',monospace\">┏━━━━━━━━━━━━━━━━━━━━━━━━━━━━━━━━━┳━━━━━━━━━━━━━━━━━━━━━━━━┳━━━━━━━━━━━━━━━┓\n",
       "┃<span style=\"font-weight: bold\"> Layer (type)                    </span>┃<span style=\"font-weight: bold\"> Output Shape           </span>┃<span style=\"font-weight: bold\">       Param # </span>┃\n",
       "┡━━━━━━━━━━━━━━━━━━━━━━━━━━━━━━━━━╇━━━━━━━━━━━━━━━━━━━━━━━━╇━━━━━━━━━━━━━━━┩\n",
       "│ conv3d_18 (<span style=\"color: #0087ff; text-decoration-color: #0087ff\">Conv3D</span>)              │ (<span style=\"color: #00d7ff; text-decoration-color: #00d7ff\">None</span>, <span style=\"color: #00af00; text-decoration-color: #00af00\">75</span>, <span style=\"color: #00af00; text-decoration-color: #00af00\">46</span>, <span style=\"color: #00af00; text-decoration-color: #00af00\">140</span>,    │         <span style=\"color: #00af00; text-decoration-color: #00af00\">3,584</span> │\n",
       "│                                 │ <span style=\"color: #00af00; text-decoration-color: #00af00\">128</span>)                   │               │\n",
       "├─────────────────────────────────┼────────────────────────┼───────────────┤\n",
       "│ activation_18 (<span style=\"color: #0087ff; text-decoration-color: #0087ff\">Activation</span>)      │ (<span style=\"color: #00d7ff; text-decoration-color: #00d7ff\">None</span>, <span style=\"color: #00af00; text-decoration-color: #00af00\">75</span>, <span style=\"color: #00af00; text-decoration-color: #00af00\">46</span>, <span style=\"color: #00af00; text-decoration-color: #00af00\">140</span>,    │             <span style=\"color: #00af00; text-decoration-color: #00af00\">0</span> │\n",
       "│                                 │ <span style=\"color: #00af00; text-decoration-color: #00af00\">128</span>)                   │               │\n",
       "├─────────────────────────────────┼────────────────────────┼───────────────┤\n",
       "│ max_pooling3d_18 (<span style=\"color: #0087ff; text-decoration-color: #0087ff\">MaxPooling3D</span>) │ (<span style=\"color: #00d7ff; text-decoration-color: #00d7ff\">None</span>, <span style=\"color: #00af00; text-decoration-color: #00af00\">75</span>, <span style=\"color: #00af00; text-decoration-color: #00af00\">23</span>, <span style=\"color: #00af00; text-decoration-color: #00af00\">70</span>,     │             <span style=\"color: #00af00; text-decoration-color: #00af00\">0</span> │\n",
       "│                                 │ <span style=\"color: #00af00; text-decoration-color: #00af00\">128</span>)                   │               │\n",
       "├─────────────────────────────────┼────────────────────────┼───────────────┤\n",
       "│ conv3d_19 (<span style=\"color: #0087ff; text-decoration-color: #0087ff\">Conv3D</span>)              │ (<span style=\"color: #00d7ff; text-decoration-color: #00d7ff\">None</span>, <span style=\"color: #00af00; text-decoration-color: #00af00\">75</span>, <span style=\"color: #00af00; text-decoration-color: #00af00\">23</span>, <span style=\"color: #00af00; text-decoration-color: #00af00\">70</span>,     │       <span style=\"color: #00af00; text-decoration-color: #00af00\">884,992</span> │\n",
       "│                                 │ <span style=\"color: #00af00; text-decoration-color: #00af00\">256</span>)                   │               │\n",
       "├─────────────────────────────────┼────────────────────────┼───────────────┤\n",
       "│ activation_19 (<span style=\"color: #0087ff; text-decoration-color: #0087ff\">Activation</span>)      │ (<span style=\"color: #00d7ff; text-decoration-color: #00d7ff\">None</span>, <span style=\"color: #00af00; text-decoration-color: #00af00\">75</span>, <span style=\"color: #00af00; text-decoration-color: #00af00\">23</span>, <span style=\"color: #00af00; text-decoration-color: #00af00\">70</span>,     │             <span style=\"color: #00af00; text-decoration-color: #00af00\">0</span> │\n",
       "│                                 │ <span style=\"color: #00af00; text-decoration-color: #00af00\">256</span>)                   │               │\n",
       "├─────────────────────────────────┼────────────────────────┼───────────────┤\n",
       "│ max_pooling3d_19 (<span style=\"color: #0087ff; text-decoration-color: #0087ff\">MaxPooling3D</span>) │ (<span style=\"color: #00d7ff; text-decoration-color: #00d7ff\">None</span>, <span style=\"color: #00af00; text-decoration-color: #00af00\">75</span>, <span style=\"color: #00af00; text-decoration-color: #00af00\">11</span>, <span style=\"color: #00af00; text-decoration-color: #00af00\">35</span>,     │             <span style=\"color: #00af00; text-decoration-color: #00af00\">0</span> │\n",
       "│                                 │ <span style=\"color: #00af00; text-decoration-color: #00af00\">256</span>)                   │               │\n",
       "├─────────────────────────────────┼────────────────────────┼───────────────┤\n",
       "│ conv3d_20 (<span style=\"color: #0087ff; text-decoration-color: #0087ff\">Conv3D</span>)              │ (<span style=\"color: #00d7ff; text-decoration-color: #00d7ff\">None</span>, <span style=\"color: #00af00; text-decoration-color: #00af00\">75</span>, <span style=\"color: #00af00; text-decoration-color: #00af00\">11</span>, <span style=\"color: #00af00; text-decoration-color: #00af00\">35</span>, <span style=\"color: #00af00; text-decoration-color: #00af00\">75</span>) │       <span style=\"color: #00af00; text-decoration-color: #00af00\">518,475</span> │\n",
       "├─────────────────────────────────┼────────────────────────┼───────────────┤\n",
       "│ activation_20 (<span style=\"color: #0087ff; text-decoration-color: #0087ff\">Activation</span>)      │ (<span style=\"color: #00d7ff; text-decoration-color: #00d7ff\">None</span>, <span style=\"color: #00af00; text-decoration-color: #00af00\">75</span>, <span style=\"color: #00af00; text-decoration-color: #00af00\">11</span>, <span style=\"color: #00af00; text-decoration-color: #00af00\">35</span>, <span style=\"color: #00af00; text-decoration-color: #00af00\">75</span>) │             <span style=\"color: #00af00; text-decoration-color: #00af00\">0</span> │\n",
       "├─────────────────────────────────┼────────────────────────┼───────────────┤\n",
       "│ max_pooling3d_20 (<span style=\"color: #0087ff; text-decoration-color: #0087ff\">MaxPooling3D</span>) │ (<span style=\"color: #00d7ff; text-decoration-color: #00d7ff\">None</span>, <span style=\"color: #00af00; text-decoration-color: #00af00\">75</span>, <span style=\"color: #00af00; text-decoration-color: #00af00\">5</span>, <span style=\"color: #00af00; text-decoration-color: #00af00\">17</span>, <span style=\"color: #00af00; text-decoration-color: #00af00\">75</span>)  │             <span style=\"color: #00af00; text-decoration-color: #00af00\">0</span> │\n",
       "├─────────────────────────────────┼────────────────────────┼───────────────┤\n",
       "│ time_distributed_5              │ (<span style=\"color: #00d7ff; text-decoration-color: #00d7ff\">None</span>, <span style=\"color: #00af00; text-decoration-color: #00af00\">75</span>, <span style=\"color: #00af00; text-decoration-color: #00af00\">6375</span>)       │             <span style=\"color: #00af00; text-decoration-color: #00af00\">0</span> │\n",
       "│ (<span style=\"color: #0087ff; text-decoration-color: #0087ff\">TimeDistributed</span>)               │                        │               │\n",
       "├─────────────────────────────────┼────────────────────────┼───────────────┤\n",
       "│ bidirectional_10                │ (<span style=\"color: #00d7ff; text-decoration-color: #00d7ff\">None</span>, <span style=\"color: #00af00; text-decoration-color: #00af00\">75</span>, <span style=\"color: #00af00; text-decoration-color: #00af00\">256</span>)        │     <span style=\"color: #00af00; text-decoration-color: #00af00\">6,660,096</span> │\n",
       "│ (<span style=\"color: #0087ff; text-decoration-color: #0087ff\">Bidirectional</span>)                 │                        │               │\n",
       "├─────────────────────────────────┼────────────────────────┼───────────────┤\n",
       "│ dropout_10 (<span style=\"color: #0087ff; text-decoration-color: #0087ff\">Dropout</span>)            │ (<span style=\"color: #00d7ff; text-decoration-color: #00d7ff\">None</span>, <span style=\"color: #00af00; text-decoration-color: #00af00\">75</span>, <span style=\"color: #00af00; text-decoration-color: #00af00\">256</span>)        │             <span style=\"color: #00af00; text-decoration-color: #00af00\">0</span> │\n",
       "├─────────────────────────────────┼────────────────────────┼───────────────┤\n",
       "│ bidirectional_11                │ (<span style=\"color: #00d7ff; text-decoration-color: #00d7ff\">None</span>, <span style=\"color: #00af00; text-decoration-color: #00af00\">75</span>, <span style=\"color: #00af00; text-decoration-color: #00af00\">256</span>)        │       <span style=\"color: #00af00; text-decoration-color: #00af00\">394,240</span> │\n",
       "│ (<span style=\"color: #0087ff; text-decoration-color: #0087ff\">Bidirectional</span>)                 │                        │               │\n",
       "├─────────────────────────────────┼────────────────────────┼───────────────┤\n",
       "│ dropout_11 (<span style=\"color: #0087ff; text-decoration-color: #0087ff\">Dropout</span>)            │ (<span style=\"color: #00d7ff; text-decoration-color: #00d7ff\">None</span>, <span style=\"color: #00af00; text-decoration-color: #00af00\">75</span>, <span style=\"color: #00af00; text-decoration-color: #00af00\">256</span>)        │             <span style=\"color: #00af00; text-decoration-color: #00af00\">0</span> │\n",
       "├─────────────────────────────────┼────────────────────────┼───────────────┤\n",
       "│ dense_5 (<span style=\"color: #0087ff; text-decoration-color: #0087ff\">Dense</span>)                 │ (<span style=\"color: #00d7ff; text-decoration-color: #00d7ff\">None</span>, <span style=\"color: #00af00; text-decoration-color: #00af00\">75</span>, <span style=\"color: #00af00; text-decoration-color: #00af00\">41</span>)         │        <span style=\"color: #00af00; text-decoration-color: #00af00\">10,537</span> │\n",
       "└─────────────────────────────────┴────────────────────────┴───────────────┘\n",
       "</pre>\n"
      ],
      "text/plain": [
       "┏━━━━━━━━━━━━━━━━━━━━━━━━━━━━━━━━━┳━━━━━━━━━━━━━━━━━━━━━━━━┳━━━━━━━━━━━━━━━┓\n",
       "┃\u001b[1m \u001b[0m\u001b[1mLayer (type)                   \u001b[0m\u001b[1m \u001b[0m┃\u001b[1m \u001b[0m\u001b[1mOutput Shape          \u001b[0m\u001b[1m \u001b[0m┃\u001b[1m \u001b[0m\u001b[1m      Param #\u001b[0m\u001b[1m \u001b[0m┃\n",
       "┡━━━━━━━━━━━━━━━━━━━━━━━━━━━━━━━━━╇━━━━━━━━━━━━━━━━━━━━━━━━╇━━━━━━━━━━━━━━━┩\n",
       "│ conv3d_18 (\u001b[38;5;33mConv3D\u001b[0m)              │ (\u001b[38;5;45mNone\u001b[0m, \u001b[38;5;34m75\u001b[0m, \u001b[38;5;34m46\u001b[0m, \u001b[38;5;34m140\u001b[0m,    │         \u001b[38;5;34m3,584\u001b[0m │\n",
       "│                                 │ \u001b[38;5;34m128\u001b[0m)                   │               │\n",
       "├─────────────────────────────────┼────────────────────────┼───────────────┤\n",
       "│ activation_18 (\u001b[38;5;33mActivation\u001b[0m)      │ (\u001b[38;5;45mNone\u001b[0m, \u001b[38;5;34m75\u001b[0m, \u001b[38;5;34m46\u001b[0m, \u001b[38;5;34m140\u001b[0m,    │             \u001b[38;5;34m0\u001b[0m │\n",
       "│                                 │ \u001b[38;5;34m128\u001b[0m)                   │               │\n",
       "├─────────────────────────────────┼────────────────────────┼───────────────┤\n",
       "│ max_pooling3d_18 (\u001b[38;5;33mMaxPooling3D\u001b[0m) │ (\u001b[38;5;45mNone\u001b[0m, \u001b[38;5;34m75\u001b[0m, \u001b[38;5;34m23\u001b[0m, \u001b[38;5;34m70\u001b[0m,     │             \u001b[38;5;34m0\u001b[0m │\n",
       "│                                 │ \u001b[38;5;34m128\u001b[0m)                   │               │\n",
       "├─────────────────────────────────┼────────────────────────┼───────────────┤\n",
       "│ conv3d_19 (\u001b[38;5;33mConv3D\u001b[0m)              │ (\u001b[38;5;45mNone\u001b[0m, \u001b[38;5;34m75\u001b[0m, \u001b[38;5;34m23\u001b[0m, \u001b[38;5;34m70\u001b[0m,     │       \u001b[38;5;34m884,992\u001b[0m │\n",
       "│                                 │ \u001b[38;5;34m256\u001b[0m)                   │               │\n",
       "├─────────────────────────────────┼────────────────────────┼───────────────┤\n",
       "│ activation_19 (\u001b[38;5;33mActivation\u001b[0m)      │ (\u001b[38;5;45mNone\u001b[0m, \u001b[38;5;34m75\u001b[0m, \u001b[38;5;34m23\u001b[0m, \u001b[38;5;34m70\u001b[0m,     │             \u001b[38;5;34m0\u001b[0m │\n",
       "│                                 │ \u001b[38;5;34m256\u001b[0m)                   │               │\n",
       "├─────────────────────────────────┼────────────────────────┼───────────────┤\n",
       "│ max_pooling3d_19 (\u001b[38;5;33mMaxPooling3D\u001b[0m) │ (\u001b[38;5;45mNone\u001b[0m, \u001b[38;5;34m75\u001b[0m, \u001b[38;5;34m11\u001b[0m, \u001b[38;5;34m35\u001b[0m,     │             \u001b[38;5;34m0\u001b[0m │\n",
       "│                                 │ \u001b[38;5;34m256\u001b[0m)                   │               │\n",
       "├─────────────────────────────────┼────────────────────────┼───────────────┤\n",
       "│ conv3d_20 (\u001b[38;5;33mConv3D\u001b[0m)              │ (\u001b[38;5;45mNone\u001b[0m, \u001b[38;5;34m75\u001b[0m, \u001b[38;5;34m11\u001b[0m, \u001b[38;5;34m35\u001b[0m, \u001b[38;5;34m75\u001b[0m) │       \u001b[38;5;34m518,475\u001b[0m │\n",
       "├─────────────────────────────────┼────────────────────────┼───────────────┤\n",
       "│ activation_20 (\u001b[38;5;33mActivation\u001b[0m)      │ (\u001b[38;5;45mNone\u001b[0m, \u001b[38;5;34m75\u001b[0m, \u001b[38;5;34m11\u001b[0m, \u001b[38;5;34m35\u001b[0m, \u001b[38;5;34m75\u001b[0m) │             \u001b[38;5;34m0\u001b[0m │\n",
       "├─────────────────────────────────┼────────────────────────┼───────────────┤\n",
       "│ max_pooling3d_20 (\u001b[38;5;33mMaxPooling3D\u001b[0m) │ (\u001b[38;5;45mNone\u001b[0m, \u001b[38;5;34m75\u001b[0m, \u001b[38;5;34m5\u001b[0m, \u001b[38;5;34m17\u001b[0m, \u001b[38;5;34m75\u001b[0m)  │             \u001b[38;5;34m0\u001b[0m │\n",
       "├─────────────────────────────────┼────────────────────────┼───────────────┤\n",
       "│ time_distributed_5              │ (\u001b[38;5;45mNone\u001b[0m, \u001b[38;5;34m75\u001b[0m, \u001b[38;5;34m6375\u001b[0m)       │             \u001b[38;5;34m0\u001b[0m │\n",
       "│ (\u001b[38;5;33mTimeDistributed\u001b[0m)               │                        │               │\n",
       "├─────────────────────────────────┼────────────────────────┼───────────────┤\n",
       "│ bidirectional_10                │ (\u001b[38;5;45mNone\u001b[0m, \u001b[38;5;34m75\u001b[0m, \u001b[38;5;34m256\u001b[0m)        │     \u001b[38;5;34m6,660,096\u001b[0m │\n",
       "│ (\u001b[38;5;33mBidirectional\u001b[0m)                 │                        │               │\n",
       "├─────────────────────────────────┼────────────────────────┼───────────────┤\n",
       "│ dropout_10 (\u001b[38;5;33mDropout\u001b[0m)            │ (\u001b[38;5;45mNone\u001b[0m, \u001b[38;5;34m75\u001b[0m, \u001b[38;5;34m256\u001b[0m)        │             \u001b[38;5;34m0\u001b[0m │\n",
       "├─────────────────────────────────┼────────────────────────┼───────────────┤\n",
       "│ bidirectional_11                │ (\u001b[38;5;45mNone\u001b[0m, \u001b[38;5;34m75\u001b[0m, \u001b[38;5;34m256\u001b[0m)        │       \u001b[38;5;34m394,240\u001b[0m │\n",
       "│ (\u001b[38;5;33mBidirectional\u001b[0m)                 │                        │               │\n",
       "├─────────────────────────────────┼────────────────────────┼───────────────┤\n",
       "│ dropout_11 (\u001b[38;5;33mDropout\u001b[0m)            │ (\u001b[38;5;45mNone\u001b[0m, \u001b[38;5;34m75\u001b[0m, \u001b[38;5;34m256\u001b[0m)        │             \u001b[38;5;34m0\u001b[0m │\n",
       "├─────────────────────────────────┼────────────────────────┼───────────────┤\n",
       "│ dense_5 (\u001b[38;5;33mDense\u001b[0m)                 │ (\u001b[38;5;45mNone\u001b[0m, \u001b[38;5;34m75\u001b[0m, \u001b[38;5;34m41\u001b[0m)         │        \u001b[38;5;34m10,537\u001b[0m │\n",
       "└─────────────────────────────────┴────────────────────────┴───────────────┘\n"
      ]
     },
     "metadata": {},
     "output_type": "display_data"
    },
    {
     "data": {
      "text/html": [
       "<pre style=\"white-space:pre;overflow-x:auto;line-height:normal;font-family:Menlo,'DejaVu Sans Mono',consolas,'Courier New',monospace\"><span style=\"font-weight: bold\"> Total params: </span><span style=\"color: #00af00; text-decoration-color: #00af00\">25,415,774</span> (96.95 MB)\n",
       "</pre>\n"
      ],
      "text/plain": [
       "\u001b[1m Total params: \u001b[0m\u001b[38;5;34m25,415,774\u001b[0m (96.95 MB)\n"
      ]
     },
     "metadata": {},
     "output_type": "display_data"
    },
    {
     "data": {
      "text/html": [
       "<pre style=\"white-space:pre;overflow-x:auto;line-height:normal;font-family:Menlo,'DejaVu Sans Mono',consolas,'Courier New',monospace\"><span style=\"font-weight: bold\"> Trainable params: </span><span style=\"color: #00af00; text-decoration-color: #00af00\">8,471,924</span> (32.32 MB)\n",
       "</pre>\n"
      ],
      "text/plain": [
       "\u001b[1m Trainable params: \u001b[0m\u001b[38;5;34m8,471,924\u001b[0m (32.32 MB)\n"
      ]
     },
     "metadata": {},
     "output_type": "display_data"
    },
    {
     "data": {
      "text/html": [
       "<pre style=\"white-space:pre;overflow-x:auto;line-height:normal;font-family:Menlo,'DejaVu Sans Mono',consolas,'Courier New',monospace\"><span style=\"font-weight: bold\"> Non-trainable params: </span><span style=\"color: #00af00; text-decoration-color: #00af00\">0</span> (0.00 B)\n",
       "</pre>\n"
      ],
      "text/plain": [
       "\u001b[1m Non-trainable params: \u001b[0m\u001b[38;5;34m0\u001b[0m (0.00 B)\n"
      ]
     },
     "metadata": {},
     "output_type": "display_data"
    },
    {
     "data": {
      "text/html": [
       "<pre style=\"white-space:pre;overflow-x:auto;line-height:normal;font-family:Menlo,'DejaVu Sans Mono',consolas,'Courier New',monospace\"><span style=\"font-weight: bold\"> Optimizer params: </span><span style=\"color: #00af00; text-decoration-color: #00af00\">16,943,850</span> (64.64 MB)\n",
       "</pre>\n"
      ],
      "text/plain": [
       "\u001b[1m Optimizer params: \u001b[0m\u001b[38;5;34m16,943,850\u001b[0m (64.64 MB)\n"
      ]
     },
     "metadata": {},
     "output_type": "display_data"
    }
   ],
   "source": [
    "checkpoint = tf.train.Checkpoint(model=model)\n",
    "\n",
    "# Restore the checkpoint (replace 'checkpoint' with the path to the directory containing your checkpoint files)\n",
    "checkpoint.restore('checkpoints/checkpoint').expect_partial()\n",
    "\n",
    "# You can now use the model for prediction or further training\n",
    "model.summary()"
   ]
  },
  {
   "cell_type": "code",
   "execution_count": null,
   "id": "247f664d-3c87-4e96-946e-930dad0e1c2c",
   "metadata": {
    "tags": []
   },
   "outputs": [],
   "source": [
    "# model.load_weights('checkpoints/checkpoint')"
   ]
  },
  {
   "cell_type": "code",
   "execution_count": null,
   "id": "7f8d689f-b7bb-443c-9b88-e40c1d800828",
   "metadata": {
    "tags": []
   },
   "outputs": [],
   "source": [
    "test_data = test.as_numpy_iterator()"
   ]
  },
  {
   "cell_type": "code",
   "execution_count": null,
   "id": "38546dc2-bee9-4837-864b-8a884df40ad7",
   "metadata": {
    "tags": []
   },
   "outputs": [
    {
     "name": "stderr",
     "output_type": "stream",
     "text": [
      "[mpeg1video @ 0x35c0d2440] ac-tex damaged at 22 17\n",
      "[mpeg1video @ 0x35c0d2440] Warning MVs not available\n"
     ]
    }
   ],
   "source": [
    "sample = test_data.next()"
   ]
  },
  {
   "cell_type": "code",
   "execution_count": null,
   "id": "a43621f0-229d-4c0d-9554-9c3a3da9c61a",
   "metadata": {
    "tags": []
   },
   "outputs": [
    {
     "name": "stdout",
     "output_type": "stream",
     "text": [
      "\u001b[1m1/1\u001b[0m \u001b[32m━━━━━━━━━━━━━━━━━━━━\u001b[0m\u001b[37m\u001b[0m \u001b[1m2s\u001b[0m 2s/step\n"
     ]
    }
   ],
   "source": [
    "yhat = model.predict(sample[0])"
   ]
  },
  {
   "cell_type": "code",
   "execution_count": null,
   "id": "ea462999-f87e-4a7e-a057-5be7b6d8f7d5",
   "metadata": {
    "tags": []
   },
   "outputs": [
    {
     "name": "stdout",
     "output_type": "stream",
     "text": [
      "~~~~~~~~~~~~~~~~~~~~~~~~~~~~~~~~~~~~~~~~~~~~~~~~~~~~~~~~~~~~~~~~~~~~~~~~~~~~~~~~~~~~~~~~~~~~~~~~~~~~ REAL TEXT\n"
     ]
    },
    {
     "data": {
      "text/plain": [
       "[<tf.Tensor: shape=(), dtype=string, numpy=b'set white in b four please'>,\n",
       " <tf.Tensor: shape=(), dtype=string, numpy=b'lay red with f zero now'>]"
      ]
     },
     "execution_count": 299,
     "metadata": {},
     "output_type": "execute_result"
    }
   ],
   "source": [
    "print('~'*100, 'REAL TEXT')\n",
    "[tf.strings.reduce_join([num_to_char(word) for word in sentence]) for sentence in sample[1]]"
   ]
  },
  {
   "cell_type": "code",
   "execution_count": null,
   "id": "82bd4c10-dd6e-411e-834b-2a3b43fd12c5",
   "metadata": {
    "tags": []
   },
   "outputs": [],
   "source": [
    "decoded = tf.keras.backend.ctc_decode(yhat, input_length=[75,75], greedy=True)[0][0].numpy()"
   ]
  },
  {
   "cell_type": "code",
   "execution_count": null,
   "id": "5d68ac46-c90b-4eab-a709-f19aee569ff5",
   "metadata": {
    "tags": []
   },
   "outputs": [
    {
     "name": "stdout",
     "output_type": "stream",
     "text": [
      "~~~~~~~~~~~~~~~~~~~~~~~~~~~~~~~~~~~~~~~~~~~~~~~~~~~~~~~~~~~~~~~~~~~~~~~~~~~~~~~~~~~~~~~~~~~~~~~~~~~~ PREDICTIONS\n"
     ]
    },
    {
     "data": {
      "text/plain": [
       "[<tf.Tensor: shape=(), dtype=string, numpy=b'xhdj'>,\n",
       " <tf.Tensor: shape=(), dtype=string, numpy=b\"t'rdj5\">]"
      ]
     },
     "execution_count": 301,
     "metadata": {},
     "output_type": "execute_result"
    }
   ],
   "source": [
    "print('~'*100, 'PREDICTIONS')\n",
    "[tf.strings.reduce_join([num_to_char(word) for word in sentence]) for sentence in decoded]"
   ]
  },
  {
   "cell_type": "markdown",
   "id": "64622f98-e99b-4fed-a2cc-f0da82eb5431",
   "metadata": {},
   "source": [
    "# Test on a Video"
   ]
  },
  {
   "cell_type": "code",
   "execution_count": null,
   "id": "a8b0c4d0-2031-4331-b91d-d87b1ae6f6e2",
   "metadata": {},
   "outputs": [],
   "source": [
    "sample = load_data(tf.convert_to_tensor('./data/s1/bras9a.mpg'))"
   ]
  },
  {
   "cell_type": "code",
   "execution_count": null,
   "id": "0cca60e4-47a9-4683-8a75-48f4684f723d",
   "metadata": {},
   "outputs": [
    {
     "name": "stdout",
     "output_type": "stream",
     "text": [
      "~~~~~~~~~~~~~~~~~~~~~~~~~~~~~~~~~~~~~~~~~~~~~~~~~~~~~~~~~~~~~~~~~~~~~~~~~~~~~~~~~~~~~~~~~~~~~~~~~~~~ REAL TEXT\n"
     ]
    },
    {
     "data": {
      "text/plain": [
       "[<tf.Tensor: shape=(), dtype=string, numpy=b'bin red at s nine again'>]"
      ]
     },
     "execution_count": 303,
     "metadata": {},
     "output_type": "execute_result"
    }
   ],
   "source": [
    "print('~'*100, 'REAL TEXT')\n",
    "[tf.strings.reduce_join([num_to_char(word) for word in sentence]) for sentence in [sample[1]]]"
   ]
  },
  {
   "cell_type": "code",
   "execution_count": null,
   "id": "8cc5037c-1e32-435c-b0cc-01e1fb3b863c",
   "metadata": {},
   "outputs": [
    {
     "name": "stdout",
     "output_type": "stream",
     "text": [
      "\u001b[1m1/1\u001b[0m \u001b[32m━━━━━━━━━━━━━━━━━━━━\u001b[0m\u001b[37m\u001b[0m \u001b[1m1s\u001b[0m 801ms/step\n"
     ]
    }
   ],
   "source": [
    "yhat = model.predict(tf.expand_dims(sample[0], axis=0))"
   ]
  },
  {
   "cell_type": "code",
   "execution_count": null,
   "id": "22c4f77d-715d-409f-bc5e-3ebe48704e8f",
   "metadata": {},
   "outputs": [],
   "source": [
    "decoded = tf.keras.backend.ctc_decode(yhat, input_length=[75], greedy=True)[0][0].numpy()"
   ]
  },
  {
   "cell_type": "code",
   "execution_count": null,
   "id": "e4d12ecc-b634-499e-a4bc-db9f010835fb",
   "metadata": {},
   "outputs": [
    {
     "name": "stdout",
     "output_type": "stream",
     "text": [
      "~~~~~~~~~~~~~~~~~~~~~~~~~~~~~~~~~~~~~~~~~~~~~~~~~~~~~~~~~~~~~~~~~~~~~~~~~~~~~~~~~~~~~~~~~~~~~~~~~~~~ PREDICTIONS\n"
     ]
    },
    {
     "data": {
      "text/plain": [
       "[<tf.Tensor: shape=(), dtype=string, numpy=b'?h?h?hje'>]"
      ]
     },
     "execution_count": 306,
     "metadata": {},
     "output_type": "execute_result"
    }
   ],
   "source": [
    "print('~'*100, 'PREDICTIONS')\n",
    "[tf.strings.reduce_join([num_to_char(word) for word in sentence]) for sentence in decoded]"
   ]
  }
 ],
 "metadata": {
  "kernelspec": {
   "display_name": "env",
   "language": "python",
   "name": "python3"
  },
  "language_info": {
   "codemirror_mode": {
    "name": "ipython",
    "version": 3
   },
   "file_extension": ".py",
   "mimetype": "text/x-python",
   "name": "python",
   "nbconvert_exporter": "python",
   "pygments_lexer": "ipython3",
   "version": "3.9.6"
  }
 },
 "nbformat": 4,
 "nbformat_minor": 5
}
